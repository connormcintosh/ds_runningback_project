{
 "cells": [
  {
   "cell_type": "code",
   "execution_count": 1,
   "metadata": {},
   "outputs": [],
   "source": [
    "import numpy as np\n",
    "import seaborn as sns\n",
    "import pandas as pd\n",
    "import matplotlib.pyplot as plt\n",
    "import winsound\n",
    "import random"
   ]
  },
  {
   "cell_type": "code",
   "execution_count": 2,
   "metadata": {},
   "outputs": [],
   "source": [
    "df= pd.read_csv(\"../../data/processed/oline_merge.csv\")"
   ]
  },
  {
   "cell_type": "code",
   "execution_count": 3,
   "metadata": {},
   "outputs": [
    {
     "data": {
      "text/plain": [
       "201"
      ]
     },
     "execution_count": 3,
     "metadata": {},
     "output_type": "execute_result"
    }
   ],
   "source": [
    "df = df[df.year >= df.draft_yr+4]\n",
    "df =df[df.year != 2020]\n",
    "len(df)"
   ]
  },
  {
   "cell_type": "code",
   "execution_count": 4,
   "metadata": {},
   "outputs": [],
   "source": [
    "df = df.drop('year',axis=1)\n",
    "df = df.drop('playername',axis=1)\n",
    "df = df.drop('team',axis=1)\n",
    "df = df.drop('basesalarycap (10^8)',axis=1)\n",
    "df = df.drop('cashspent (M)',axis=1)\n",
    "df = df.drop('caphit (M)',axis=1)\n",
    "df = df.drop('Unnamed: 0',axis=1)\n",
    "df = df.drop('Unnamed: 0.1',axis=1)\n",
    "df = df.drop('catchpercent',axis=1)\n",
    "df = df.drop('draft_yr',axis=1)\n",
    "\n",
    "df = df.drop('yardspergame_run',axis=1)\n",
    "df = df.drop('yardsperatt',axis=1)\n",
    "df = df.drop('yardspertarget',axis=1)\n",
    "df = df.drop('yardsperrec',axis=1)\n",
    "df = df.drop('recpergame',axis=1)\n",
    "df = df.drop('yardspergame_rec',axis=1)\n"
   ]
  },
  {
   "cell_type": "code",
   "execution_count": 5,
   "metadata": {},
   "outputs": [],
   "source": [
    "from sklearn.preprocessing import MinMaxScaler\n",
    "from sklearn.preprocessing import StandardScaler\n",
    "from sklearn.model_selection import train_test_split\n",
    "import tensorflow as tf\n",
    "from tensorflow.keras.models import Sequential\n",
    "from tensorflow.keras.layers import Dense\n",
    "from sklearn.metrics import mean_absolute_error, mean_squared_error, explained_variance_score"
   ]
  },
  {
   "cell_type": "code",
   "execution_count": 6,
   "metadata": {},
   "outputs": [],
   "source": [
    "X = df.drop('Percenthit (%)',axis=1).values\n",
    "y = df['Percenthit (%)'].values\n",
    "X_train, X_test, y_train, y_test = train_test_split(X, y, test_size=0.25, random_state=101)\n",
    "scaler = MinMaxScaler()\n",
    "X_train = scaler.fit_transform(X_train)\n",
    "X_test = scaler.fit_transform(X_test)"
   ]
  },
  {
   "cell_type": "code",
   "execution_count": 53,
   "metadata": {},
   "outputs": [
    {
     "name": "stdout",
     "output_type": "stream",
     "text": [
      "WARNING:tensorflow:6 out of the last 11 calls to <function Model.make_predict_function.<locals>.predict_function at 0x0000025B288CFC18> triggered tf.function retracing. Tracing is expensive and the excessive number of tracings could be due to (1) creating @tf.function repeatedly in a loop, (2) passing tensors with different shapes, (3) passing Python objects instead of tensors. For (1), please define your @tf.function outside of the loop. For (2), @tf.function has experimental_relax_shapes=True option that relaxes argument shapes that can avoid unnecessary retracing. For (3), please refer to https://www.tensorflow.org/tutorials/customization/performance#python_or_tensor_args and https://www.tensorflow.org/api_docs/python/tf/function for  more details.\n",
      "MSE:  2.735906130222005\n",
      "RMSE:  1.6540574748847168\n",
      "MAE:  1.249584093130343\n",
      "ESV:  0.518537618315993\n"
     ]
    }
   ],
   "source": [
    "loaded_model = tf.keras.models.load_model('./savedmodels/norookiednn/')\n",
    "predictions = loaded_model.predict(X_test)\n",
    "\n",
    "print(\"MSE: \",mean_squared_error(y_test,predictions) )\n",
    "print(\"RMSE: \",np.sqrt(mean_squared_error(y_test,predictions)) )\n",
    "print(\"MAE: \",mean_absolute_error(y_test,predictions) )\n",
    "print(\"ESV: \", explained_variance_score(y_test, predictions))"
   ]
  },
  {
   "cell_type": "code",
   "execution_count": 72,
   "metadata": {},
   "outputs": [],
   "source": [
    "X_scl = scaler.fit_transform(X)\n",
    "predictions = loaded_model.predict(X_scl)"
   ]
  },
  {
   "cell_type": "code",
   "execution_count": 73,
   "metadata": {},
   "outputs": [
    {
     "data": {
      "text/plain": [
       "numpy.ndarray"
      ]
     },
     "execution_count": 73,
     "metadata": {},
     "output_type": "execute_result"
    }
   ],
   "source": [
    "type(y)"
   ]
  },
  {
   "cell_type": "code",
   "execution_count": 74,
   "metadata": {},
   "outputs": [
    {
     "data": {
      "text/plain": [
       "numpy.ndarray"
      ]
     },
     "execution_count": 74,
     "metadata": {},
     "output_type": "execute_result"
    }
   ],
   "source": [
    "type(predictions)"
   ]
  },
  {
   "cell_type": "code",
   "execution_count": 124,
   "metadata": {},
   "outputs": [
    {
     "ename": "NameError",
     "evalue": "name 'set_aspect' is not defined",
     "output_type": "error",
     "traceback": [
      "\u001b[1;31m---------------------------------------------------------------------------\u001b[0m",
      "\u001b[1;31mNameError\u001b[0m                                 Traceback (most recent call last)",
      "\u001b[1;32m<ipython-input-124-83a977bbfa68>\u001b[0m in \u001b[0;36m<module>\u001b[1;34m\u001b[0m\n\u001b[1;32m----> 1\u001b[1;33m \u001b[0mset_aspect\u001b[0m\u001b[1;33m(\u001b[0m\u001b[1;34m'equal'\u001b[0m\u001b[1;33m)\u001b[0m\u001b[1;33m\u001b[0m\u001b[1;33m\u001b[0m\u001b[0m\n\u001b[0m\u001b[0;32m      2\u001b[0m \u001b[0mplt\u001b[0m\u001b[1;33m.\u001b[0m\u001b[0mscatter\u001b[0m\u001b[1;33m(\u001b[0m\u001b[0mpredictions\u001b[0m\u001b[1;33m,\u001b[0m\u001b[0my\u001b[0m\u001b[1;33m)\u001b[0m\u001b[1;33m\u001b[0m\u001b[1;33m\u001b[0m\u001b[0m\n\u001b[0;32m      3\u001b[0m \u001b[1;33m\u001b[0m\u001b[0m\n\u001b[0;32m      4\u001b[0m \u001b[0mplt\u001b[0m\u001b[1;33m.\u001b[0m\u001b[0mylabel\u001b[0m\u001b[1;33m(\u001b[0m\u001b[1;34m\"Actual Values (%)\"\u001b[0m\u001b[1;33m)\u001b[0m\u001b[1;33m\u001b[0m\u001b[1;33m\u001b[0m\u001b[0m\n\u001b[0;32m      5\u001b[0m \u001b[0mplt\u001b[0m\u001b[1;33m.\u001b[0m\u001b[0mxlabel\u001b[0m\u001b[1;33m(\u001b[0m\u001b[1;34m\"Predicted Values (%)\"\u001b[0m\u001b[1;33m)\u001b[0m\u001b[1;33m\u001b[0m\u001b[1;33m\u001b[0m\u001b[0m\n",
      "\u001b[1;31mNameError\u001b[0m: name 'set_aspect' is not defined"
     ]
    }
   ],
   "source": [
    "set_aspect('equal')\n",
    "plt.scatter(predictions,y)\n",
    "\n",
    "plt.ylabel(\"Actual Values (%)\")\n",
    "plt.xlabel(\"Predicted Values (%)\")\n",
    "plt.title('Sequential DNN: Predicted vs Actual Cap %')"
   ]
  },
  {
   "cell_type": "code",
   "execution_count": 109,
   "metadata": {},
   "outputs": [],
   "source": [
    "Aaron_Jones2020 = np.array([26,182,201,1104,9,77,14,14,63,47,355,2,15,30,2,5,3,1])"
   ]
  },
  {
   "cell_type": "code",
   "execution_count": 30,
   "metadata": {},
   "outputs": [],
   "source": [
    "rbs =pd.read_csv(\"../../data/rbs_to_predict.csv\")\n",
    "names = rbs['playername'].values\n",
    "real_y = rbs['2021capperc'].values\n",
    "rbs = rbs.drop('tm',axis=1)\n",
    "rbs = rbs.drop('playername',axis=1)\n",
    "rbs= rbs.drop('2021capperc',axis=1)"
   ]
  },
  {
   "cell_type": "code",
   "execution_count": 31,
   "metadata": {},
   "outputs": [
    {
     "data": {
      "text/html": [
       "<div>\n",
       "<style scoped>\n",
       "    .dataframe tbody tr th:only-of-type {\n",
       "        vertical-align: middle;\n",
       "    }\n",
       "\n",
       "    .dataframe tbody tr th {\n",
       "        vertical-align: top;\n",
       "    }\n",
       "\n",
       "    .dataframe thead th {\n",
       "        text-align: right;\n",
       "    }\n",
       "</style>\n",
       "<table border=\"1\" class=\"dataframe\">\n",
       "  <thead>\n",
       "    <tr style=\"text-align: right;\">\n",
       "      <th></th>\n",
       "      <th>age</th>\n",
       "      <th>draft_pos</th>\n",
       "      <th>attempts</th>\n",
       "      <th>yards_run</th>\n",
       "      <th>tds_run</th>\n",
       "      <th>longgain_run</th>\n",
       "      <th>g</th>\n",
       "      <th>gs</th>\n",
       "      <th>tgt</th>\n",
       "      <th>rec</th>\n",
       "      <th>yards_rec</th>\n",
       "      <th>tds_rec</th>\n",
       "      <th>firstdowns</th>\n",
       "      <th>longgain_rec</th>\n",
       "      <th>fumbles</th>\n",
       "      <th>team_adjusted_line_yards</th>\n",
       "      <th>team_running_back_yards</th>\n",
       "      <th>team_stuffed_rate</th>\n",
       "    </tr>\n",
       "  </thead>\n",
       "  <tbody>\n",
       "    <tr>\n",
       "      <td>0</td>\n",
       "      <td>27</td>\n",
       "      <td>182</td>\n",
       "      <td>201</td>\n",
       "      <td>1104</td>\n",
       "      <td>9</td>\n",
       "      <td>77</td>\n",
       "      <td>14</td>\n",
       "      <td>14</td>\n",
       "      <td>63</td>\n",
       "      <td>47</td>\n",
       "      <td>355</td>\n",
       "      <td>2</td>\n",
       "      <td>15</td>\n",
       "      <td>30</td>\n",
       "      <td>2</td>\n",
       "      <td>5</td>\n",
       "      <td>3</td>\n",
       "      <td>1</td>\n",
       "    </tr>\n",
       "    <tr>\n",
       "      <td>1</td>\n",
       "      <td>27</td>\n",
       "      <td>73</td>\n",
       "      <td>239</td>\n",
       "      <td>955</td>\n",
       "      <td>10</td>\n",
       "      <td>69</td>\n",
       "      <td>15</td>\n",
       "      <td>13</td>\n",
       "      <td>31</td>\n",
       "      <td>25</td>\n",
       "      <td>137</td>\n",
       "      <td>0</td>\n",
       "      <td>5</td>\n",
       "      <td>18</td>\n",
       "      <td>3</td>\n",
       "      <td>30</td>\n",
       "      <td>19</td>\n",
       "      <td>25</td>\n",
       "    </tr>\n",
       "    <tr>\n",
       "      <td>2</td>\n",
       "      <td>26</td>\n",
       "      <td>257</td>\n",
       "      <td>144</td>\n",
       "      <td>723</td>\n",
       "      <td>6</td>\n",
       "      <td>36</td>\n",
       "      <td>16</td>\n",
       "      <td>6</td>\n",
       "      <td>13</td>\n",
       "      <td>9</td>\n",
       "      <td>129</td>\n",
       "      <td>0</td>\n",
       "      <td>4</td>\n",
       "      <td>34</td>\n",
       "      <td>1</td>\n",
       "      <td>8</td>\n",
       "      <td>1</td>\n",
       "      <td>5</td>\n",
       "    </tr>\n",
       "    <tr>\n",
       "      <td>3</td>\n",
       "      <td>26</td>\n",
       "      <td>205</td>\n",
       "      <td>169</td>\n",
       "      <td>721</td>\n",
       "      <td>6</td>\n",
       "      <td>59</td>\n",
       "      <td>13</td>\n",
       "      <td>11</td>\n",
       "      <td>43</td>\n",
       "      <td>35</td>\n",
       "      <td>215</td>\n",
       "      <td>0</td>\n",
       "      <td>10</td>\n",
       "      <td>18</td>\n",
       "      <td>2</td>\n",
       "      <td>32</td>\n",
       "      <td>32</td>\n",
       "      <td>28</td>\n",
       "    </tr>\n",
       "    <tr>\n",
       "      <td>4</td>\n",
       "      <td>27</td>\n",
       "      <td>249</td>\n",
       "      <td>141</td>\n",
       "      <td>681</td>\n",
       "      <td>5</td>\n",
       "      <td>29</td>\n",
       "      <td>12</td>\n",
       "      <td>12</td>\n",
       "      <td>46</td>\n",
       "      <td>37</td>\n",
       "      <td>287</td>\n",
       "      <td>4</td>\n",
       "      <td>14</td>\n",
       "      <td>29</td>\n",
       "      <td>1</td>\n",
       "      <td>10</td>\n",
       "      <td>15</td>\n",
       "      <td>17</td>\n",
       "    </tr>\n",
       "    <tr>\n",
       "      <td>5</td>\n",
       "      <td>26</td>\n",
       "      <td>134</td>\n",
       "      <td>119</td>\n",
       "      <td>505</td>\n",
       "      <td>2</td>\n",
       "      <td>25</td>\n",
       "      <td>14</td>\n",
       "      <td>3</td>\n",
       "      <td>35</td>\n",
       "      <td>31</td>\n",
       "      <td>236</td>\n",
       "      <td>1</td>\n",
       "      <td>11</td>\n",
       "      <td>29</td>\n",
       "      <td>0</td>\n",
       "      <td>5</td>\n",
       "      <td>3</td>\n",
       "      <td>1</td>\n",
       "    </tr>\n",
       "    <tr>\n",
       "      <td>6</td>\n",
       "      <td>27</td>\n",
       "      <td>257</td>\n",
       "      <td>118</td>\n",
       "      <td>502</td>\n",
       "      <td>1</td>\n",
       "      <td>55</td>\n",
       "      <td>11</td>\n",
       "      <td>8</td>\n",
       "      <td>14</td>\n",
       "      <td>7</td>\n",
       "      <td>28</td>\n",
       "      <td>0</td>\n",
       "      <td>1</td>\n",
       "      <td>11</td>\n",
       "      <td>0</td>\n",
       "      <td>28</td>\n",
       "      <td>12</td>\n",
       "      <td>32</td>\n",
       "    </tr>\n",
       "  </tbody>\n",
       "</table>\n",
       "</div>"
      ],
      "text/plain": [
       "   age  draft_pos  attempts  yards_run  tds_run  longgain_run   g  gs  tgt  \\\n",
       "0   27        182       201       1104        9            77  14  14   63   \n",
       "1   27         73       239        955       10            69  15  13   31   \n",
       "2   26        257       144        723        6            36  16   6   13   \n",
       "3   26        205       169        721        6            59  13  11   43   \n",
       "4   27        249       141        681        5            29  12  12   46   \n",
       "5   26        134       119        505        2            25  14   3   35   \n",
       "6   27        257       118        502        1            55  11   8   14   \n",
       "\n",
       "   rec  yards_rec  tds_rec  firstdowns  longgain_rec  fumbles  \\\n",
       "0   47        355        2          15            30        2   \n",
       "1   25        137        0           5            18        3   \n",
       "2    9        129        0           4            34        1   \n",
       "3   35        215        0          10            18        2   \n",
       "4   37        287        4          14            29        1   \n",
       "5   31        236        1          11            29        0   \n",
       "6    7         28        0           1            11        0   \n",
       "\n",
       "   team_adjusted_line_yards  team_running_back_yards  team_stuffed_rate  \n",
       "0                         5                        3                  1  \n",
       "1                        30                       19                 25  \n",
       "2                         8                        1                  5  \n",
       "3                        32                       32                 28  \n",
       "4                        10                       15                 17  \n",
       "5                         5                        3                  1  \n",
       "6                        28                       12                 32  "
      ]
     },
     "execution_count": 31,
     "metadata": {},
     "output_type": "execute_result"
    }
   ],
   "source": [
    "rbs"
   ]
  },
  {
   "cell_type": "code",
   "execution_count": 32,
   "metadata": {},
   "outputs": [
    {
     "data": {
      "text/plain": [
       "array(['Aaron Jones', 'Kenyan Drake', 'Gus Edwards', 'James Conner',\n",
       "       'Chris Carson', 'Jamaal Williams', 'Phillip Lindsay'], dtype=object)"
      ]
     },
     "execution_count": 32,
     "metadata": {},
     "output_type": "execute_result"
    }
   ],
   "source": [
    "names"
   ]
  },
  {
   "cell_type": "code",
   "execution_count": 33,
   "metadata": {},
   "outputs": [
    {
     "data": {
      "text/plain": [
       "array([2.369     , 1.592     , 1.796     , 0.9288    , 1.327     ,\n",
       "       0.86252654, 1.63      ])"
      ]
     },
     "execution_count": 33,
     "metadata": {},
     "output_type": "execute_result"
    }
   ],
   "source": [
    "real_y"
   ]
  },
  {
   "cell_type": "code",
   "execution_count": 46,
   "metadata": {},
   "outputs": [
    {
     "name": "stdout",
     "output_type": "stream",
     "text": [
      "Aaron Jones\n",
      "[  27  182  201 1104    9   77   14   14   63   47  355    2   15   30\n",
      "    2    5    3    1]\n",
      "1.845775\n",
      "2.369\n",
      "Kenyan Drake\n",
      "[ 27  73 239 955  10  69  15  13  31  25 137   0   5  18   3  30  19  25]\n",
      "4.848217\n",
      "1.5919999999999999\n",
      "Gus Edwards\n",
      "[ 26 257 144 723   6  36  16   6  13   9 129   0   4  34   1   8   1   5]\n",
      "1.1705719\n",
      "1.796\n",
      "James Conner\n",
      "[ 26 205 169 721   6  59  13  11  43  35 215   0  10  18   2  32  32  28]\n",
      "3.0994954\n",
      "0.9288\n",
      "Chris Carson\n",
      "[ 27 249 141 681   5  29  12  12  46  37 287   4  14  29   1  10  15  17]\n",
      "1.5447459\n",
      "1.327\n",
      "Jamaal Williams\n",
      "[ 26 134 119 505   2  25  14   3  35  31 236   1  11  29   0   5   3   1]\n",
      "1.2456422\n",
      "0.8625265390000001\n",
      "Phillip Lindsay\n",
      "[ 27 257 118 502   1  55  11   8  14   7  28   0   1  11   0  28  12  32]\n",
      "1.0253081\n",
      "1.63\n"
     ]
    }
   ],
   "source": [
    "realpreds = []\n",
    "\n",
    "for i in range(len(names)):\n",
    "    print(names[i])\n",
    "    print(rbs.iloc[i].to_numpy())\n",
    "    predi = loaded_model.predict(scaler.transform(rbs.iloc[i].to_numpy().reshape(1, -1)))\n",
    "    realpreds.append(predi[0][0])\n",
    "    print(predi[0][0])\n",
    "    print(real_y[i])"
   ]
  },
  {
   "cell_type": "code",
   "execution_count": 39,
   "metadata": {},
   "outputs": [
    {
     "data": {
      "text/plain": [
       "[1.845775, 4.848217, 1.1705719, 3.0994954, 1.5447459, 1.2456422, 1.0253081]"
      ]
     },
     "execution_count": 39,
     "metadata": {},
     "output_type": "execute_result"
    }
   ],
   "source": [
    "realpreds"
   ]
  },
  {
   "cell_type": "code",
   "execution_count": 40,
   "metadata": {},
   "outputs": [
    {
     "data": {
      "text/plain": [
       "array([2.369     , 1.592     , 1.796     , 0.9288    , 1.327     ,\n",
       "       0.86252654, 1.63      ])"
      ]
     },
     "execution_count": 40,
     "metadata": {},
     "output_type": "execute_result"
    }
   ],
   "source": [
    "real_y"
   ]
  },
  {
   "cell_type": "code",
   "execution_count": 41,
   "metadata": {},
   "outputs": [
    {
     "data": {
      "text/plain": [
       "<matplotlib.collections.PathCollection at 0x25b1bcb92c8>"
      ]
     },
     "execution_count": 41,
     "metadata": {},
     "output_type": "execute_result"
    },
    {
     "data": {
      "image/png": "[encoded data removed]",
      "text/plain": [
       "<Figure size 432x288 with 1 Axes>"
      ]
     },
     "metadata": {
      "needs_background": "light"
     },
     "output_type": "display_data"
    }
   ],
   "source": []
  },
  {
   "cell_type": "code",
   "execution_count": 77,
   "metadata": {},
   "outputs": [
    {
     "name": "stdout",
     "output_type": "stream",
     "text": [
      "MAE: 1.3456728363735153\n",
      "MSE: 3.149127825844518\n",
      "RMSE: 1.7745782106868433\n",
      "ESV:  0.4712326416436068\n"
     ]
    },
    {
     "data": {
      "image/png": "[encoded data removed]",
      "text/plain": [
       "<Figure size 432x288 with 1 Axes>"
      ]
     },
     "metadata": {
      "needs_background": "light"
     },
     "output_type": "display_data"
    }
   ],
   "source": [
    "from sklearn import metrics\n",
    "from sklearn.linear_model import LinearRegression\n",
    "lm = LinearRegression()\n",
    "lm.fit(X_train,y_train)\n",
    "X_scl = scaler.fit_transform(X)\n",
    "predictions = lm.predict(X_scl)\n",
    "plt.scatter(predictions,y)\n",
    "plt.ylabel(\"Actual Values (%)\")\n",
    "plt.xlabel(\"Predicted Values (%)\")\n",
    "plt.title(\"Linear Regression: Predicted vs Actual Cap %\")\n",
    "print('MAE:', metrics.mean_absolute_error(y, predictions))\n",
    "print('MSE:', metrics.mean_squared_error(y, predictions))\n",
    "print('RMSE:', np.sqrt(metrics.mean_squared_error(y, predictions)))\n",
    "print(\"ESV: \", explained_variance_score(y, predictions))"
   ]
  },
  {
   "cell_type": "code",
   "execution_count": 49,
   "metadata": {},
   "outputs": [
    {
     "name": "stdout",
     "output_type": "stream",
     "text": [
      "Model: \"sequential_417\"\n",
      "_________________________________________________________________\n",
      "Layer (type)                 Output Shape              Param #   \n",
      "=================================================================\n",
      "dense_2025 (Dense)           (None, 18)                342       \n",
      "_________________________________________________________________\n",
      "dense_2026 (Dense)           (None, 40)                760       \n",
      "_________________________________________________________________\n",
      "dense_2027 (Dense)           (None, 40)                1640      \n",
      "_________________________________________________________________\n",
      "dense_2028 (Dense)           (None, 40)                1640      \n",
      "_________________________________________________________________\n",
      "dense_2029 (Dense)           (None, 1)                 41        \n",
      "=================================================================\n",
      "Total params: 4,423\n",
      "Trainable params: 4,423\n",
      "Non-trainable params: 0\n",
      "_________________________________________________________________\n"
     ]
    }
   ],
   "source": [
    "loaded_model = tf.keras.models.load_model('./savedmodels/norookiednn/')\n",
    "loaded_model.summary()"
   ]
  },
  {
   "cell_type": "code",
   "execution_count": 51,
   "metadata": {},
   "outputs": [
    {
     "data": {
      "text/plain": [
       "[<tensorflow.python.keras.layers.core.Dense at 0x25b203948c8>,\n",
       " <tensorflow.python.keras.layers.core.Dense at 0x25b203936c8>,\n",
       " <tensorflow.python.keras.layers.core.Dense at 0x25b20397dc8>,\n",
       " <tensorflow.python.keras.layers.core.Dense at 0x25b2039bec8>,\n",
       " <tensorflow.python.keras.layers.core.Dense at 0x25b2039ef48>]"
      ]
     },
     "execution_count": 51,
     "metadata": {},
     "output_type": "execute_result"
    }
   ],
   "source": [
    "loaded_model.layers"
   ]
  },
  {
   "cell_type": "code",
   "execution_count": 118,
   "metadata": {},
   "outputs": [
    {
     "name": "stdout",
     "output_type": "stream",
     "text": [
      "Aaron Jones\n",
      "[  27  182  201 1104    9   77   14   14   63   47  355    2   15   30\n",
      "    2    5    3    1]\n",
      "1.845775\n",
      "2.369\n",
      "[['Aaron Jones' '1.845775' '2.369']]\n",
      "\n",
      "Kenyan Drake\n",
      "[ 27  73 239 955  10  69  15  13  31  25 137   0   5  18   3  30  19  25]\n",
      "4.848217\n",
      "1.5919999999999999\n",
      "[['Kenyan Drake' '4.848217' '1.592']]\n",
      "\n",
      "Gus Edwards\n",
      "[ 26 257 144 723   6  36  16   6  13   9 129   0   4  34   1   8   1   5]\n",
      "1.1705719\n",
      "1.796\n",
      "[['Gus Edwards' '1.1705719' '1.796']]\n",
      "\n",
      "James Conner\n",
      "[ 26 205 169 721   6  59  13  11  43  35 215   0  10  18   2  32  32  28]\n",
      "3.0994954\n",
      "0.9288\n",
      "[['James Conner' '3.0994954' '0.929']]\n",
      "\n",
      "Chris Carson\n",
      "[ 27 249 141 681   5  29  12  12  46  37 287   4  14  29   1  10  15  17]\n",
      "1.5447459\n",
      "1.327\n",
      "[['Chris Carson' '1.5447459' '1.327']]\n",
      "\n",
      "Jamaal Williams\n",
      "[ 26 134 119 505   2  25  14   3  35  31 236   1  11  29   0   5   3   1]\n",
      "1.2456422\n",
      "0.8625265390000001\n",
      "[['Jamaal Williams' '1.2456422' '0.863']]\n",
      "\n",
      "Phillip Lindsay\n",
      "[ 27 257 118 502   1  55  11   8  14   7  28   0   1  11   0  28  12  32]\n",
      "1.0253081\n",
      "1.63\n",
      "[['Phillip Lindsay' '1.0253081' '1.63']]\n",
      "\n"
     ]
    },
    {
     "data": {
      "text/html": [
       "<div>\n",
       "<style scoped>\n",
       "    .dataframe tbody tr th:only-of-type {\n",
       "        vertical-align: middle;\n",
       "    }\n",
       "\n",
       "    .dataframe tbody tr th {\n",
       "        vertical-align: top;\n",
       "    }\n",
       "\n",
       "    .dataframe thead th {\n",
       "        text-align: right;\n",
       "    }\n",
       "</style>\n",
       "<table border=\"1\" class=\"dataframe\">\n",
       "  <thead>\n",
       "    <tr style=\"text-align: right;\">\n",
       "      <th></th>\n",
       "      <th>name</th>\n",
       "      <th>predicted</th>\n",
       "      <th>real</th>\n",
       "    </tr>\n",
       "  </thead>\n",
       "  <tbody>\n",
       "    <tr>\n",
       "      <td>0</td>\n",
       "      <td>Aaron Jones</td>\n",
       "      <td>1.845775</td>\n",
       "      <td>2.369</td>\n",
       "    </tr>\n",
       "    <tr>\n",
       "      <td>0</td>\n",
       "      <td>Kenyan Drake</td>\n",
       "      <td>4.848217</td>\n",
       "      <td>1.592</td>\n",
       "    </tr>\n",
       "    <tr>\n",
       "      <td>0</td>\n",
       "      <td>Gus Edwards</td>\n",
       "      <td>1.1705719</td>\n",
       "      <td>1.796</td>\n",
       "    </tr>\n",
       "    <tr>\n",
       "      <td>0</td>\n",
       "      <td>James Conner</td>\n",
       "      <td>3.0994954</td>\n",
       "      <td>0.929</td>\n",
       "    </tr>\n",
       "    <tr>\n",
       "      <td>0</td>\n",
       "      <td>Chris Carson</td>\n",
       "      <td>1.5447459</td>\n",
       "      <td>1.327</td>\n",
       "    </tr>\n",
       "    <tr>\n",
       "      <td>0</td>\n",
       "      <td>Jamaal Williams</td>\n",
       "      <td>1.2456422</td>\n",
       "      <td>0.863</td>\n",
       "    </tr>\n",
       "    <tr>\n",
       "      <td>0</td>\n",
       "      <td>Phillip Lindsay</td>\n",
       "      <td>1.0253081</td>\n",
       "      <td>1.63</td>\n",
       "    </tr>\n",
       "  </tbody>\n",
       "</table>\n",
       "</div>"
      ],
      "text/plain": [
       "              name  predicted   real\n",
       "0      Aaron Jones   1.845775  2.369\n",
       "0     Kenyan Drake   4.848217  1.592\n",
       "0      Gus Edwards  1.1705719  1.796\n",
       "0     James Conner  3.0994954  0.929\n",
       "0     Chris Carson  1.5447459  1.327\n",
       "0  Jamaal Williams  1.2456422  0.863\n",
       "0  Phillip Lindsay  1.0253081   1.63"
      ]
     },
     "execution_count": 118,
     "metadata": {},
     "output_type": "execute_result"
    }
   ],
   "source": [
    "rbs =pd.read_csv(\"../../data/rbs_to_predict.csv\")\n",
    "names = rbs['playername'].values\n",
    "real_y = rbs['2021capperc'].values\n",
    "rbs = rbs.drop('tm',axis=1)\n",
    "rbs = rbs.drop('playername',axis=1)\n",
    "rbs= rbs.drop('2021capperc',axis=1)\n",
    "\n",
    "real_compare= pd.DataFrame([],columns=['name', 'predicted','real'])\n",
    "realpreds = []\n",
    "\n",
    "for i in range(len(names)):\n",
    "    print(names[i])\n",
    "    print(rbs.iloc[i].to_numpy())\n",
    "    predi = loaded_model.predict(scaler.transform(rbs.iloc[i].to_numpy().reshape(1, -1)))\n",
    "    realpreds.append(predi[0][0])\n",
    "    print(predi[0][0])\n",
    "    print(real_y[i])\n",
    "    listi = [['',0,0]]\n",
    "    listi[0][0] = names[i]\n",
    "    listi[0][1] = predi[0][0]\n",
    "    listi[0][2] = real_y[i].round(decimals=3)\n",
    "    listi = np.array(listi)\n",
    "    print(listi)\n",
    "    dfi = pd.DataFrame(listi,columns=['name', 'predicted','real'])\n",
    "    real_compare = real_compare.append(dfi)\n",
    "    \n",
    "    print()\n",
    "\n",
    "real_compare"
   ]
  },
  {
   "cell_type": "code",
   "execution_count": null,
   "metadata": {},
   "outputs": [],
   "source": []
  },
  {
   "cell_type": "raw",
   "metadata": {},
   "source": []
  },
  {
   "cell_type": "code",
   "execution_count": null,
   "metadata": {},
   "outputs": [],
   "source": []
  }
 ],
 "metadata": {
  "kernelspec": {
   "display_name": "Python 3",
   "language": "python",
   "name": "python3"
  },
  "language_info": {
   "codemirror_mode": {
    "name": "ipython",
    "version": 3
   },
   "file_extension": ".py",
   "mimetype": "text/x-python",
   "name": "python",
   "nbconvert_exporter": "python",
   "pygments_lexer": "ipython3",
   "version": "3.7.4"
  }
 },
 "nbformat": 4,
 "nbformat_minor": 2
}
