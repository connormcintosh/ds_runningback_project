{
 "cells": [
  {
   "cell_type": "code",
   "execution_count": 1,
   "metadata": {},
   "outputs": [],
   "source": [
    "import numpy as np\n",
    "import seaborn as sns\n",
    "import pandas as pd\n",
    "import matplotlib.pyplot as plt\n",
    "import random"
   ]
  },
  {
   "cell_type": "code",
   "execution_count": 48,
   "metadata": {},
   "outputs": [],
   "source": [
    "df= pd.read_csv(\"../../data/processed/norookies.csv\")\n",
    "df = df.drop('year',axis=1)\n",
    "df = df.drop('playername',axis=1)\n",
    "df = df.drop('team',axis=1)\n",
    "df = df.drop('basesalarycap (10^8)',axis=1)\n",
    "df = df.drop('cashspent (M)',axis=1)\n",
    "df = df.drop('caphit (M)',axis=1)\n",
    "df = df.drop('Unnamed: 0',axis=1)\n",
    "df = df.drop('Unnamed: 0.1',axis=1)\n",
    "df = df.drop('catchpercent',axis=1)\n",
    "df = df.drop('draft_yr',axis=1)"
   ]
  },
  {
   "cell_type": "code",
   "execution_count": 49,
   "metadata": {},
   "outputs": [
    {
     "data": {
      "text/plain": [
       "Unnamed: 0.1.1                int64\n",
       "age                           int64\n",
       "draft_pos                     int64\n",
       "attempts                      int64\n",
       "yards_run                     int64\n",
       "tds_run                       int64\n",
       "longgain_run                  int64\n",
       "yardsperatt                 float64\n",
       "yardspergame_run            float64\n",
       "Percenthit (%)              float64\n",
       "g                             int64\n",
       "gs                            int64\n",
       "tgt                           int64\n",
       "rec                           int64\n",
       "yards_rec                     int64\n",
       "yardsperrec                 float64\n",
       "tds_rec                       int64\n",
       "firstdowns                    int64\n",
       "longgain_rec                  int64\n",
       "yardspertarget              float64\n",
       "recpergame                  float64\n",
       "yardspergame_rec            float64\n",
       "fumbles                       int64\n",
       "team_adjusted_line_yards    float64\n",
       "team_running_back_yards     float64\n",
       "team_stuffed_rate           float64\n",
       "dtype: object"
      ]
     },
     "execution_count": 49,
     "metadata": {},
     "output_type": "execute_result"
    }
   ],
   "source": [
    "df.dtypes"
   ]
  },
  {
   "cell_type": "code",
   "execution_count": 50,
   "metadata": {},
   "outputs": [],
   "source": [
    "from sklearn.model_selection import train_test_split\n",
    "X = df.drop('Percenthit (%)',axis=1).values\n",
    "y = df['Percenthit (%)'].values\n",
    "X_train, X_test, y_train, y_test = train_test_split(X, y, test_size=0.2, random_state=101)"
   ]
  },
  {
   "cell_type": "code",
   "execution_count": 51,
   "metadata": {},
   "outputs": [],
   "source": [
    "from sklearn.preprocessing import MinMaxScaler\n",
    "scaler = MinMaxScaler()\n",
    "X_train = scaler.fit_transform(X_train)\n",
    "X_test = scaler.fit_transform(X_test)"
   ]
  },
  {
   "cell_type": "code",
   "execution_count": 52,
   "metadata": {},
   "outputs": [],
   "source": [
    "import tensorflow as tf\n",
    "from tensorflow.keras.optimizers import Adam\n",
    "from tensorflow.keras.models import Sequential\n",
    "from tensorflow.keras.layers import Dense\n",
    "from sklearn.metrics import mean_absolute_error, mean_squared_error, explained_variance_score"
   ]
  },
  {
   "cell_type": "code",
   "execution_count": 53,
   "metadata": {},
   "outputs": [
    {
     "name": "stdout",
     "output_type": "stream",
     "text": [
      "Train on 237 samples, validate on 60 samples\n",
      "Epoch 1/50\n",
      "237/237 [==============================] - 1s 4ms/step - loss: 12.8064 - val_loss: 10.3057\n",
      "Epoch 2/50\n",
      "237/237 [==============================] - 0s 435us/step - loss: 12.4826 - val_loss: 10.1064\n",
      "Epoch 3/50\n",
      "237/237 [==============================] - 0s 384us/step - loss: 12.2741 - val_loss: 9.9428\n",
      "Epoch 4/50\n",
      "237/237 [==============================] - 0s 579us/step - loss: 12.1333 - val_loss: 9.8260\n",
      "Epoch 5/50\n",
      "237/237 [==============================] - 0s 600us/step - loss: 12.0042 - val_loss: 9.7047\n",
      "Epoch 6/50\n",
      "237/237 [==============================] - 0s 577us/step - loss: 11.8552 - val_loss: 9.5473\n",
      "Epoch 7/50\n",
      "237/237 [==============================] - 0s 682us/step - loss: 11.6484 - val_loss: 9.3137\n",
      "Epoch 8/50\n",
      "237/237 [==============================] - 0s 487us/step - loss: 11.3469 - val_loss: 8.9530\n",
      "Epoch 9/50\n",
      "237/237 [==============================] - 0s 548us/step - loss: 10.8583 - val_loss: 8.3958\n",
      "Epoch 10/50\n",
      "237/237 [==============================] - 0s 583us/step - loss: 10.1574 - val_loss: 7.5894\n",
      "Epoch 11/50\n",
      "237/237 [==============================] - 0s 600us/step - loss: 9.1160 - val_loss: 6.5139\n",
      "Epoch 12/50\n",
      "237/237 [==============================] - 0s 518us/step - loss: 7.7386 - val_loss: 5.2530\n",
      "Epoch 13/50\n",
      "237/237 [==============================] - 0s 415us/step - loss: 6.2344 - val_loss: 4.3594\n",
      "Epoch 14/50\n",
      "237/237 [==============================] - 0s 263us/step - loss: 5.1683 - val_loss: 4.4270\n",
      "Epoch 15/50\n",
      "237/237 [==============================] - 0s 575us/step - loss: 4.8920 - val_loss: 4.8706\n",
      "Epoch 16/50\n",
      "237/237 [==============================] - 0s 402us/step - loss: 4.8443 - val_loss: 4.6907\n",
      "Epoch 17/50\n",
      "237/237 [==============================] - 0s 423us/step - loss: 4.7266 - val_loss: 4.4364\n",
      "Epoch 18/50\n",
      "237/237 [==============================] - 0s 629us/step - loss: 4.6447 - val_loss: 4.2927\n",
      "Epoch 19/50\n",
      "237/237 [==============================] - 0s 475us/step - loss: 4.5713 - val_loss: 4.2843\n",
      "Epoch 20/50\n",
      "237/237 [==============================] - 0s 487us/step - loss: 4.4868 - val_loss: 4.3044\n",
      "Epoch 21/50\n",
      "237/237 [==============================] - 0s 456us/step - loss: 4.4032 - val_loss: 4.2998\n",
      "Epoch 22/50\n",
      "237/237 [==============================] - 0s 457us/step - loss: 4.3348 - val_loss: 4.3410\n",
      "Epoch 23/50\n",
      "237/237 [==============================] - 0s 490us/step - loss: 4.2755 - val_loss: 4.3424\n",
      "Epoch 24/50\n",
      "237/237 [==============================] - 0s 441us/step - loss: 4.1984 - val_loss: 4.2165\n",
      "Epoch 25/50\n",
      "237/237 [==============================] - 0s 507us/step - loss: 4.1426 - val_loss: 4.1516\n",
      "Epoch 26/50\n",
      "237/237 [==============================] - 0s 576us/step - loss: 4.0758 - val_loss: 4.2513\n",
      "Epoch 27/50\n",
      "237/237 [==============================] - 0s 503us/step - loss: 4.0261 - val_loss: 4.3028\n",
      "Epoch 28/50\n",
      "237/237 [==============================] - 0s 683us/step - loss: 3.9653 - val_loss: 4.1443\n",
      "Epoch 29/50\n",
      "237/237 [==============================] - 0s 571us/step - loss: 3.9177 - val_loss: 4.1746\n",
      "Epoch 30/50\n",
      "237/237 [==============================] - 0s 787us/step - loss: 3.8800 - val_loss: 4.0493\n",
      "Epoch 31/50\n",
      "237/237 [==============================] - 0s 402us/step - loss: 3.8310 - val_loss: 4.1915\n",
      "Epoch 32/50\n",
      "237/237 [==============================] - 0s 557us/step - loss: 3.8179 - val_loss: 4.2523\n",
      "Epoch 33/50\n",
      "237/237 [==============================] - 0s 454us/step - loss: 3.7471 - val_loss: 3.9058\n",
      "Epoch 34/50\n",
      "237/237 [==============================] - 0s 413us/step - loss: 3.7475 - val_loss: 3.8261\n",
      "Epoch 35/50\n",
      "237/237 [==============================] - 0s 429us/step - loss: 3.6856 - val_loss: 4.1349\n",
      "Epoch 36/50\n",
      "237/237 [==============================] - 0s 396us/step - loss: 3.6574 - val_loss: 4.0755\n",
      "Epoch 37/50\n",
      "237/237 [==============================] - 0s 655us/step - loss: 3.6289 - val_loss: 3.9480\n",
      "Epoch 38/50\n",
      "237/237 [==============================] - 0s 534us/step - loss: 3.6021 - val_loss: 3.9199\n",
      "Epoch 39/50\n",
      "237/237 [==============================] - 0s 600us/step - loss: 3.5797 - val_loss: 4.0240\n",
      "Epoch 40/50\n",
      "237/237 [==============================] - 0s 588us/step - loss: 3.5510 - val_loss: 3.9455\n",
      "Epoch 41/50\n",
      "237/237 [==============================] - 0s 379us/step - loss: 3.5634 - val_loss: 3.8310\n",
      "Epoch 42/50\n",
      "237/237 [==============================] - 0s 506us/step - loss: 3.5135 - val_loss: 3.8082\n",
      "Epoch 43/50\n",
      "237/237 [==============================] - 0s 600us/step - loss: 3.5049 - val_loss: 3.9575\n",
      "Epoch 44/50\n",
      "237/237 [==============================] - 0s 437us/step - loss: 3.4724 - val_loss: 3.8598\n",
      "Epoch 45/50\n",
      "237/237 [==============================] - 0s 394us/step - loss: 3.4519 - val_loss: 3.8015\n",
      "Epoch 46/50\n",
      "237/237 [==============================] - 0s 416us/step - loss: 3.4429 - val_loss: 3.7839\n",
      "Epoch 47/50\n",
      "237/237 [==============================] - 0s 499us/step - loss: 3.4154 - val_loss: 3.8250\n",
      "Epoch 48/50\n",
      "237/237 [==============================] - 0s 445us/step - loss: 3.4110 - val_loss: 3.8857\n",
      "Epoch 49/50\n",
      "237/237 [==============================] - 0s 498us/step - loss: 3.3908 - val_loss: 3.7830\n",
      "Epoch 50/50\n",
      "237/237 [==============================] - 0s 497us/step - loss: 3.3778 - val_loss: 3.8273\n",
      "\n",
      "\n",
      "ESV: 0.23988012696375594\n",
      "\n",
      "\n",
      "\n",
      "\n",
      "\n",
      "MAX: 0.23988012696375594\n",
      "\n",
      "\n",
      "[0.23988012696375594]\n",
      "MSE:  3.827276774787434\n",
      "RMSE:  1.9563427038194086\n",
      "MAE:  1.491664755159924\n",
      "ESV:  0.23988012696375594\n"
     ]
    },
    {
     "data": {
      "text/plain": [
       "[<matplotlib.lines.Line2D at 0x7f9475fb8828>]"
      ]
     },
     "execution_count": 53,
     "metadata": {},
     "output_type": "execute_result"
    },
    {
     "data": {
      "image/png": "[encoded data removed]",
      "text/plain": [
       "<Figure size 432x288 with 1 Axes>"
      ]
     },
     "metadata": {
      "needs_background": "light"
     },
     "output_type": "display_data"
    }
   ],
   "source": [
    "X = df.drop('Percenthit (%)',axis=1).values\n",
    "y = df['Percenthit (%)'].values\n",
    "X_train, X_test, y_train, y_test = train_test_split(X, y, test_size=0.2, random_state=101)\n",
    "\n",
    "scaler = MinMaxScaler()\n",
    "X_train = scaler.fit_transform(X_train)\n",
    "X_test = scaler.fit_transform(X_test)\n",
    "opt = Adam()\n",
    "esv = []\n",
    "# while True: \n",
    "for i in range(1):\n",
    "    \n",
    "    X_train.shape\n",
    "    model = Sequential()\n",
    "\n",
    "    model.add(Dense(24, activation=\"relu\"))\n",
    "    model.add(Dense(random.randint(6,9), activation=\"relu\"))\n",
    "    model.add(Dense(random.randint(6,9), activation=\"relu\"))\n",
    "    model.add(Dense(random.randint(6,9), activation=\"relu\"))\n",
    "    \n",
    "\n",
    "    model.add(Dense(1))\n",
    "\n",
    "    model.compile(optimizer=opt, loss=\"mse\")\n",
    "    model.fit(x=X_train, y= y_train, validation_data=(X_test,y_test),batch_size=30,epochs=50)\n",
    "    \n",
    "    predictions = model.predict(X_test)\n",
    "    esv.append(explained_variance_score(y_test,predictions))\n",
    "    print('\\n'+'\\n'+\"ESV: \" + str(explained_variance_score(y_test,predictions))+ '\\n'+'\\n'+'\\n')\n",
    "    if(explained_variance_score(y_test,predictions) > .625):\n",
    "        #winsound.Beep(1047, 750)\n",
    "        #winsound.Beep(1047, 750)\n",
    "        break\n",
    "#     winsound.Beep(1397,250)\n",
    "\n",
    "esv.sort(reverse=True)\n",
    "print(\"\\n\")\n",
    "print(\"MAX: \" + str(max(esv)))\n",
    "print(\"\\n\")\n",
    "print(esv)\n",
    "print(\"MSE: \",mean_squared_error(y_test,predictions) )\n",
    "print(\"RMSE: \",np.sqrt(mean_squared_error(y_test,predictions)) )\n",
    "print(\"MAE: \",mean_absolute_error(y_test,predictions) )\n",
    "print(\"ESV: \", explained_variance_score(y_test, predictions))\n",
    "plt.figure()\n",
    "plt.scatter(y_test,predictions)\n",
    "plt.plot(y_test,y_test,'r')\n",
    "#winsound.Beep(784, 750)"
   ]
  },
  {
   "cell_type": "code",
   "execution_count": null,
   "metadata": {},
   "outputs": [],
   "source": []
  },
  {
   "cell_type": "code",
   "execution_count": 8,
   "metadata": {},
   "outputs": [],
   "source": [
    "#model.save('./savedmodels/63dnn')"
   ]
  },
  {
   "cell_type": "code",
   "execution_count": 20,
   "metadata": {},
   "outputs": [
    {
     "name": "stdout",
     "output_type": "stream",
     "text": [
      "MSE:  1.9156764059495022\n",
      "RMSE:  1.3840796241363797\n",
      "MAE:  0.9464164398289482\n",
      "ESV:  0.49979307236373227\n"
     ]
    }
   ],
   "source": [
    "#loaded_model = tf.keras.models.load_model('./savedmodels/63dnn/')\n",
    "#predictions = loaded_model.predict(X_test)\n",
    "predictions = model.predict(X_test)\n",
    "\n",
    "print(\"MSE: \",mean_squared_error(y_test,predictions) )\n",
    "print(\"RMSE: \",np.sqrt(mean_squared_error(y_test,predictions)) )\n",
    "print(\"MAE: \",mean_absolute_error(y_test,predictions) )\n",
    "print(\"ESV: \", explained_variance_score(y_test, predictions))"
   ]
  },
  {
   "cell_type": "code",
   "execution_count": null,
   "metadata": {},
   "outputs": [],
   "source": []
  },
  {
   "cell_type": "code",
   "execution_count": null,
   "metadata": {},
   "outputs": [],
   "source": []
  },
  {
   "cell_type": "code",
   "execution_count": null,
   "metadata": {},
   "outputs": [],
   "source": []
  },
  {
   "cell_type": "code",
   "execution_count": null,
   "metadata": {},
   "outputs": [],
   "source": []
  },
  {
   "cell_type": "code",
   "execution_count": null,
   "metadata": {},
   "outputs": [],
   "source": []
  },
  {
   "cell_type": "code",
   "execution_count": null,
   "metadata": {},
   "outputs": [],
   "source": []
  }
 ],
 "metadata": {
  "kernelspec": {
   "display_name": "Python 3",
   "language": "python",
   "name": "python3"
  },
  "language_info": {
   "codemirror_mode": {
    "name": "ipython",
    "version": 3
   },
   "file_extension": ".py",
   "mimetype": "text/x-python",
   "name": "python",
   "nbconvert_exporter": "python",
   "pygments_lexer": "ipython3",
   "version": "3.5.6"
  }
 },
 "nbformat": 4,
 "nbformat_minor": 2
}
