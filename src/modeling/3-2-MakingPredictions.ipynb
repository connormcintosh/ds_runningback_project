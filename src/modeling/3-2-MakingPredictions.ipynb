{
 "cells": [
  {
   "cell_type": "code",
   "execution_count": 20,
   "metadata": {},
   "outputs": [],
   "source": [
    "import numpy as np\n",
    "import seaborn as sns\n",
    "import pandas as pd\n",
    "import matplotlib.pyplot as plt\n",
    "import winsound\n",
    "import random"
   ]
  },
  {
   "cell_type": "code",
   "execution_count": 21,
   "metadata": {},
   "outputs": [],
   "source": [
    "df= pd.read_csv(\"../../data/processed/oline_merge.csv\")\n",
    "# df = df.drop('year',axis=1)\n",
    "# df = df.drop('playername',axis=1)\n",
    "df = df.drop('team',axis=1)\n",
    "df = df.drop('basesalarycap (10^8)',axis=1)\n",
    "df = df.drop('cashspent (M)',axis=1)\n",
    "df = df.drop('caphit (M)',axis=1)\n",
    "df = df.drop('Unnamed: 0',axis=1)\n",
    "df = df.drop('Unnamed: 0.1',axis=1)\n",
    "df = df.drop('catchpercent',axis=1)\n",
    "df = df.drop('draft_yr',axis=1)"
   ]
  },
  {
   "cell_type": "code",
   "execution_count": 7,
   "metadata": {},
   "outputs": [
    {
     "data": {
      "text/plain": [
       "Index(['playername', 'age', 'draft_pos', 'attempts', 'yards_run', 'tds_run',\n",
       "       'longgain_run', 'yardsperatt', 'yardspergame_run', 'Percenthit (%)',\n",
       "       'g', 'gs', 'tgt', 'rec', 'yards_rec', 'yardsperrec', 'tds_rec',\n",
       "       'firstdowns', 'longgain_rec', 'yardspertarget', 'recpergame',\n",
       "       'yardspergame_rec', 'fumbles', 'team_adjusted_line_yards',\n",
       "       'team_running_back_yards', 'team_stuffed_rate'],\n",
       "      dtype='object')"
      ]
     },
     "execution_count": 7,
     "metadata": {},
     "output_type": "execute_result"
    }
   ],
   "source": [
    "df.columns"
   ]
  },
  {
   "cell_type": "code",
   "execution_count": 22,
   "metadata": {},
   "outputs": [
    {
     "data": {
      "text/plain": [
       "27"
      ]
     },
     "execution_count": 22,
     "metadata": {},
     "output_type": "execute_result"
    }
   ],
   "source": [
    "len(df.columns)"
   ]
  },
  {
   "cell_type": "code",
   "execution_count": 9,
   "metadata": {},
   "outputs": [],
   "source": [
    "df.to_csv(\"rbs_to_predict.csv\")"
   ]
  },
  {
   "cell_type": "code",
   "execution_count": 16,
   "metadata": {},
   "outputs": [],
   "source": [
    "from sklearn.preprocessing import MinMaxScaler\n",
    "from sklearn.model_selection import train_test_split\n",
    "import tensorflow as tf\n",
    "from tensorflow.keras.models import Sequential\n",
    "from tensorflow.keras.layers import Dense\n",
    "from sklearn.metrics import mean_absolute_error, mean_squared_error, explained_variance_score"
   ]
  },
  {
   "cell_type": "code",
   "execution_count": 23,
   "metadata": {},
   "outputs": [],
   "source": [
    "df = df.drop('year',axis=1)\n",
    "df = df.drop('playername',axis=1)"
   ]
  },
  {
   "cell_type": "code",
   "execution_count": 24,
   "metadata": {},
   "outputs": [],
   "source": [
    "X = df.drop('Percenthit (%)',axis=1).values\n",
    "y = df['Percenthit (%)'].values\n",
    "X_train, X_test, y_train, y_test = train_test_split(X, y, test_size=0.2, random_state=101)\n",
    "scaler = MinMaxScaler()\n",
    "X_train = scaler.fit_transform(X_train)\n",
    "X_test = scaler.fit_transform(X_test)"
   ]
  },
  {
   "cell_type": "code",
   "execution_count": 56,
   "metadata": {},
   "outputs": [
    {
     "name": "stdout",
     "output_type": "stream",
     "text": [
      "MSE:  1.2557903616990482\n",
      "RMSE:  1.120620525289024\n",
      "MAE:  0.8312867047039685\n",
      "ESV:  0.6312316150199554\n"
     ]
    }
   ],
   "source": [
    "loaded_model = tf.keras.models.load_model('./savedmodels/63dnn/')\n",
    "predictions = loaded_model.predict(X_test)\n",
    "\n",
    "print(\"MSE: \",mean_squared_error(y_test,predictions) )\n",
    "print(\"RMSE: \",np.sqrt(mean_squared_error(y_test,predictions)) )\n",
    "print(\"MAE: \",mean_absolute_error(y_test,predictions) )\n",
    "print(\"ESV: \", explained_variance_score(y_test, predictions))"
   ]
  },
  {
   "cell_type": "code",
   "execution_count": 58,
   "metadata": {},
   "outputs": [
    {
     "data": {
      "text/plain": [
       "Index(['age', 'draft_pos', 'attempts', 'yards_run', 'tds_run', 'longgain_run',\n",
       "       'yardsperatt', 'yardspergame_run', 'Percenthit (%)', 'g', 'gs', 'tgt',\n",
       "       'rec', 'yards_rec', 'yardsperrec', 'tds_rec', 'firstdowns',\n",
       "       'longgain_rec', 'yardspertarget', 'recpergame', 'yardspergame_rec',\n",
       "       'fumbles', 'team_adjusted_line_yards', 'team_running_back_yards',\n",
       "       'team_stuffed_rate'],\n",
       "      dtype='object')"
      ]
     },
     "execution_count": 58,
     "metadata": {},
     "output_type": "execute_result"
    }
   ],
   "source": []
  },
  {
   "cell_type": "code",
   "execution_count": 61,
   "metadata": {},
   "outputs": [
    {
     "data": {
      "text/plain": [
       "(1, 24)"
      ]
     },
     "execution_count": 61,
     "metadata": {},
     "output_type": "execute_result"
    }
   ],
   "source": [
    "Aaron_Jones = np.array([[27,182,201,1104,9,77,5.5,78.9,14,14,63,47,355,7.6,2,15,30,5.6,3.4,25.4,2,5,3,1]])\n",
    "Aaron_Jones.shape"
   ]
  },
  {
   "cell_type": "code",
   "execution_count": 72,
   "metadata": {},
   "outputs": [
    {
     "name": "stdout",
     "output_type": "stream",
     "text": [
      "[[0.5161042 ]\n",
      " [2.9380221 ]\n",
      " [1.73409   ]\n",
      " [2.4637458 ]\n",
      " [1.4418651 ]\n",
      " [1.7599125 ]\n",
      " [0.12526116]\n",
      " [0.1678991 ]\n",
      " [1.3661193 ]\n",
      " [3.0736845 ]\n",
      " [0.12526116]\n",
      " [1.2436591 ]\n",
      " [6.127674  ]\n",
      " [3.0298455 ]\n",
      " [3.8759284 ]\n",
      " [3.6157057 ]\n",
      " [0.83332026]\n",
      " [0.6085737 ]\n",
      " [0.917778  ]\n",
      " [0.7466258 ]\n",
      " [1.4836187 ]\n",
      " [0.7818755 ]\n",
      " [1.5018969 ]\n",
      " [1.2335624 ]\n",
      " [4.200544  ]\n",
      " [3.1356556 ]\n",
      " [1.1539499 ]\n",
      " [4.575303  ]\n",
      " [4.49839   ]\n",
      " [1.8968766 ]\n",
      " [4.3932433 ]\n",
      " [3.5188339 ]\n",
      " [2.2052448 ]\n",
      " [2.8601444 ]\n",
      " [0.71272564]\n",
      " [1.6061708 ]\n",
      " [6.401875  ]\n",
      " [4.0456715 ]\n",
      " [1.3509096 ]\n",
      " [0.30833548]\n",
      " [2.1654239 ]\n",
      " [0.85569155]\n",
      " [2.3456337 ]\n",
      " [3.7675347 ]\n",
      " [0.12526116]\n",
      " [5.239537  ]\n",
      " [0.12526116]\n",
      " [1.5607708 ]\n",
      " [1.4109454 ]\n",
      " [2.9147074 ]\n",
      " [3.719706  ]\n",
      " [0.42524764]\n",
      " [0.84783804]\n",
      " [1.1062827 ]\n",
      " [1.4686791 ]\n",
      " [3.9745998 ]\n",
      " [1.1807956 ]\n",
      " [1.716221  ]\n",
      " [3.5434778 ]\n",
      " [0.8919555 ]\n",
      " [2.0170565 ]\n",
      " [0.86761427]\n",
      " [1.11832   ]\n",
      " [1.1419224 ]\n",
      " [4.944565  ]\n",
      " [0.686357  ]\n",
      " [1.2832158 ]\n",
      " [1.238417  ]\n",
      " [1.7609096 ]\n",
      " [0.20731638]\n",
      " [0.12526116]\n",
      " [0.7532865 ]\n",
      " [3.5272696 ]\n",
      " [0.95666623]\n",
      " [0.48412478]\n",
      " [1.2646731 ]\n",
      " [1.3114079 ]\n",
      " [1.1995188 ]\n",
      " [1.232997  ]\n",
      " [0.8530519 ]\n",
      " [0.85615134]\n",
      " [0.12526116]\n",
      " [0.940819  ]\n",
      " [1.2442755 ]\n",
      " [3.1369088 ]\n",
      " [2.6149304 ]\n",
      " [2.5378206 ]\n",
      " [0.89656174]\n",
      " [0.12526116]\n",
      " [0.74844706]\n",
      " [0.12526116]\n",
      " [0.3220995 ]\n",
      " [0.28755417]\n",
      " [0.5139904 ]\n",
      " [0.61132693]\n",
      " [0.643507  ]\n",
      " [4.7618217 ]\n",
      " [3.0345829 ]\n",
      " [0.61437404]\n",
      " [2.930195  ]\n",
      " [4.6973066 ]\n",
      " [0.12526116]\n",
      " [1.7107524 ]\n",
      " [0.14110011]\n",
      " [2.4377668 ]\n",
      " [0.5988978 ]\n",
      " [0.9318756 ]\n",
      " [1.5891708 ]\n",
      " [5.78057   ]\n",
      " [3.9430015 ]\n",
      " [0.12526116]\n",
      " [0.25937808]\n",
      " [4.9314923 ]\n",
      " [0.6498811 ]\n",
      " [2.964548  ]\n",
      " [1.6810867 ]\n",
      " [0.8396882 ]\n",
      " [2.445395  ]]\n"
     ]
    }
   ],
   "source": [
    "print(predictions)"
   ]
  },
  {
   "cell_type": "code",
   "execution_count": null,
   "metadata": {},
   "outputs": [],
   "source": []
  }
 ],
 "metadata": {
  "kernelspec": {
   "display_name": "Python 3",
   "language": "python",
   "name": "python3"
  },
  "language_info": {
   "codemirror_mode": {
    "name": "ipython",
    "version": 3
   },
   "file_extension": ".py",
   "mimetype": "text/x-python",
   "name": "python",
   "nbconvert_exporter": "python",
   "pygments_lexer": "ipython3",
   "version": "3.7.4"
  }
 },
 "nbformat": 4,
 "nbformat_minor": 2
}
