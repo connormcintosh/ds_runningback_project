{
 "cells": [
  {
   "cell_type": "code",
   "execution_count": 43,
   "metadata": {},
   "outputs": [],
   "source": [
    "import matplotlib.pyplot as plt\n",
    "import numpy as np\n",
    "import pandas as pd\n",
    "import seaborn as sns"
   ]
  },
  {
   "cell_type": "code",
   "execution_count": 44,
   "metadata": {},
   "outputs": [],
   "source": [
    "import tensorflow as tf\n",
    "\n",
    "from tensorflow import keras\n",
    "from tensorflow.keras import layers\n",
    "from tensorflow.keras.layers.experimental import preprocessing\n"
   ]
  },
  {
   "cell_type": "code",
   "execution_count": 45,
   "metadata": {},
   "outputs": [],
   "source": [
    "df= pd.read_csv(\"../../data/processed/oline_merge.csv\")"
   ]
  },
  {
   "cell_type": "code",
   "execution_count": 46,
   "metadata": {},
   "outputs": [],
   "source": [
    "df = df.drop('year',axis=1)\n",
    "df = df.drop('playername',axis=1)\n",
    "df = df.drop('team',axis=1)\n",
    "df = df.drop('basesalarycap (10^8)',axis=1)\n",
    "df = df.drop('cashspent (M)',axis=1)\n",
    "df = df.drop('caphit (M)',axis=1)\n",
    "df = df.drop('Unnamed: 0',axis=1)\n",
    "#df['catchpercent'] = float(df['catchpercent'].str[:-1])\n",
    "df = df.drop('catchpercent',axis=1)\n",
    "df = df.drop('Unnamed: 0.1',axis=1)\n",
    "df = df.drop('draft_yr',axis=1)"
   ]
  },
  {
   "cell_type": "code",
   "execution_count": 47,
   "metadata": {},
   "outputs": [
    {
     "data": {
      "text/plain": [
       "Index(['age', 'draft_pos', 'attempts', 'yards_run', 'tds_run', 'longgain_run',\n",
       "       'yardsperatt', 'yardspergame_run', 'Percenthit (%)', 'g', 'gs', 'tgt',\n",
       "       'rec', 'yards_rec', 'yardsperrec', 'tds_rec', 'firstdowns',\n",
       "       'longgain_rec', 'yardspertarget', 'recpergame', 'yardspergame_rec',\n",
       "       'fumbles', 'team_adjusted_line_yards', 'team_running_back_yards',\n",
       "       'team_stuffed_rate'],\n",
       "      dtype='object')"
      ]
     },
     "execution_count": 47,
     "metadata": {},
     "output_type": "execute_result"
    }
   ],
   "source": [
    "df.columns"
   ]
  },
  {
   "cell_type": "markdown",
   "metadata": {},
   "source": [
    "## Splitting & Scaling"
   ]
  },
  {
   "cell_type": "code",
   "execution_count": 48,
   "metadata": {},
   "outputs": [],
   "source": [
    "train_dataset = df.sample(frac=0.8, random_state=0)\n",
    "test_dataset = df.drop(train_dataset.index)\n"
   ]
  },
  {
   "cell_type": "code",
   "execution_count": 49,
   "metadata": {},
   "outputs": [
    {
     "data": {
      "text/html": [
       "<div>\n",
       "<style scoped>\n",
       "    .dataframe tbody tr th:only-of-type {\n",
       "        vertical-align: middle;\n",
       "    }\n",
       "\n",
       "    .dataframe tbody tr th {\n",
       "        vertical-align: top;\n",
       "    }\n",
       "\n",
       "    .dataframe thead th {\n",
       "        text-align: right;\n",
       "    }\n",
       "</style>\n",
       "<table border=\"1\" class=\"dataframe\">\n",
       "  <thead>\n",
       "    <tr style=\"text-align: right;\">\n",
       "      <th></th>\n",
       "      <th>count</th>\n",
       "      <th>mean</th>\n",
       "      <th>std</th>\n",
       "      <th>min</th>\n",
       "      <th>25%</th>\n",
       "      <th>50%</th>\n",
       "      <th>75%</th>\n",
       "      <th>max</th>\n",
       "    </tr>\n",
       "  </thead>\n",
       "  <tbody>\n",
       "    <tr>\n",
       "      <td>age</td>\n",
       "      <td>470.0</td>\n",
       "      <td>25.374468</td>\n",
       "      <td>2.913132</td>\n",
       "      <td>21.0</td>\n",
       "      <td>23.000000</td>\n",
       "      <td>25.000000</td>\n",
       "      <td>27.000000</td>\n",
       "      <td>37.000000</td>\n",
       "    </tr>\n",
       "    <tr>\n",
       "      <td>draft_pos</td>\n",
       "      <td>470.0</td>\n",
       "      <td>68.329787</td>\n",
       "      <td>68.766653</td>\n",
       "      <td>-1.0</td>\n",
       "      <td>9.000000</td>\n",
       "      <td>55.000000</td>\n",
       "      <td>97.000000</td>\n",
       "      <td>250.000000</td>\n",
       "    </tr>\n",
       "    <tr>\n",
       "      <td>attempts</td>\n",
       "      <td>470.0</td>\n",
       "      <td>144.091489</td>\n",
       "      <td>91.154606</td>\n",
       "      <td>2.0</td>\n",
       "      <td>65.250000</td>\n",
       "      <td>131.500000</td>\n",
       "      <td>216.000000</td>\n",
       "      <td>392.000000</td>\n",
       "    </tr>\n",
       "    <tr>\n",
       "      <td>yards_run</td>\n",
       "      <td>470.0</td>\n",
       "      <td>623.561702</td>\n",
       "      <td>416.246876</td>\n",
       "      <td>-3.0</td>\n",
       "      <td>284.500000</td>\n",
       "      <td>543.500000</td>\n",
       "      <td>934.750000</td>\n",
       "      <td>1845.000000</td>\n",
       "    </tr>\n",
       "    <tr>\n",
       "      <td>tds_run</td>\n",
       "      <td>470.0</td>\n",
       "      <td>4.568085</td>\n",
       "      <td>4.088916</td>\n",
       "      <td>0.0</td>\n",
       "      <td>1.000000</td>\n",
       "      <td>4.000000</td>\n",
       "      <td>7.000000</td>\n",
       "      <td>28.000000</td>\n",
       "    </tr>\n",
       "    <tr>\n",
       "      <td>longgain_run</td>\n",
       "      <td>470.0</td>\n",
       "      <td>40.725532</td>\n",
       "      <td>21.015356</td>\n",
       "      <td>3.0</td>\n",
       "      <td>24.000000</td>\n",
       "      <td>38.000000</td>\n",
       "      <td>55.000000</td>\n",
       "      <td>97.000000</td>\n",
       "    </tr>\n",
       "    <tr>\n",
       "      <td>yardsperatt</td>\n",
       "      <td>470.0</td>\n",
       "      <td>4.243404</td>\n",
       "      <td>0.860548</td>\n",
       "      <td>-0.3</td>\n",
       "      <td>3.800000</td>\n",
       "      <td>4.200000</td>\n",
       "      <td>4.800000</td>\n",
       "      <td>7.700000</td>\n",
       "    </tr>\n",
       "    <tr>\n",
       "      <td>yardspergame_run</td>\n",
       "      <td>470.0</td>\n",
       "      <td>47.543830</td>\n",
       "      <td>25.989095</td>\n",
       "      <td>-0.2</td>\n",
       "      <td>27.025000</td>\n",
       "      <td>45.550000</td>\n",
       "      <td>67.050000</td>\n",
       "      <td>122.400000</td>\n",
       "    </tr>\n",
       "    <tr>\n",
       "      <td>Percenthit (%)</td>\n",
       "      <td>470.0</td>\n",
       "      <td>1.755724</td>\n",
       "      <td>1.999999</td>\n",
       "      <td>0.0</td>\n",
       "      <td>0.426749</td>\n",
       "      <td>0.829555</td>\n",
       "      <td>2.362975</td>\n",
       "      <td>11.300813</td>\n",
       "    </tr>\n",
       "    <tr>\n",
       "      <td>g</td>\n",
       "      <td>470.0</td>\n",
       "      <td>12.982979</td>\n",
       "      <td>3.475121</td>\n",
       "      <td>1.0</td>\n",
       "      <td>11.000000</td>\n",
       "      <td>14.000000</td>\n",
       "      <td>16.000000</td>\n",
       "      <td>16.000000</td>\n",
       "    </tr>\n",
       "    <tr>\n",
       "      <td>gs</td>\n",
       "      <td>470.0</td>\n",
       "      <td>7.314894</td>\n",
       "      <td>5.602580</td>\n",
       "      <td>0.0</td>\n",
       "      <td>2.000000</td>\n",
       "      <td>7.000000</td>\n",
       "      <td>12.000000</td>\n",
       "      <td>16.000000</td>\n",
       "    </tr>\n",
       "    <tr>\n",
       "      <td>tgt</td>\n",
       "      <td>470.0</td>\n",
       "      <td>37.517021</td>\n",
       "      <td>25.693758</td>\n",
       "      <td>2.0</td>\n",
       "      <td>17.000000</td>\n",
       "      <td>33.000000</td>\n",
       "      <td>53.000000</td>\n",
       "      <td>137.000000</td>\n",
       "    </tr>\n",
       "    <tr>\n",
       "      <td>rec</td>\n",
       "      <td>470.0</td>\n",
       "      <td>27.991489</td>\n",
       "      <td>19.668466</td>\n",
       "      <td>1.0</td>\n",
       "      <td>12.000000</td>\n",
       "      <td>23.000000</td>\n",
       "      <td>39.000000</td>\n",
       "      <td>100.000000</td>\n",
       "    </tr>\n",
       "    <tr>\n",
       "      <td>yards_rec</td>\n",
       "      <td>470.0</td>\n",
       "      <td>224.195745</td>\n",
       "      <td>173.991054</td>\n",
       "      <td>-5.0</td>\n",
       "      <td>90.000000</td>\n",
       "      <td>180.500000</td>\n",
       "      <td>316.500000</td>\n",
       "      <td>993.000000</td>\n",
       "    </tr>\n",
       "    <tr>\n",
       "      <td>yardsperrec</td>\n",
       "      <td>470.0</td>\n",
       "      <td>7.801915</td>\n",
       "      <td>2.336768</td>\n",
       "      <td>-5.0</td>\n",
       "      <td>6.500000</td>\n",
       "      <td>7.700000</td>\n",
       "      <td>8.900000</td>\n",
       "      <td>19.000000</td>\n",
       "    </tr>\n",
       "    <tr>\n",
       "      <td>tds_rec</td>\n",
       "      <td>470.0</td>\n",
       "      <td>0.957447</td>\n",
       "      <td>1.332830</td>\n",
       "      <td>0.0</td>\n",
       "      <td>0.000000</td>\n",
       "      <td>1.000000</td>\n",
       "      <td>1.000000</td>\n",
       "      <td>8.000000</td>\n",
       "    </tr>\n",
       "    <tr>\n",
       "      <td>firstdowns</td>\n",
       "      <td>470.0</td>\n",
       "      <td>9.953191</td>\n",
       "      <td>7.921385</td>\n",
       "      <td>0.0</td>\n",
       "      <td>4.000000</td>\n",
       "      <td>8.000000</td>\n",
       "      <td>14.000000</td>\n",
       "      <td>42.000000</td>\n",
       "    </tr>\n",
       "    <tr>\n",
       "      <td>longgain_rec</td>\n",
       "      <td>470.0</td>\n",
       "      <td>29.527660</td>\n",
       "      <td>16.612422</td>\n",
       "      <td>-5.0</td>\n",
       "      <td>18.000000</td>\n",
       "      <td>25.000000</td>\n",
       "      <td>37.000000</td>\n",
       "      <td>84.000000</td>\n",
       "    </tr>\n",
       "    <tr>\n",
       "      <td>yardspertarget</td>\n",
       "      <td>470.0</td>\n",
       "      <td>5.777872</td>\n",
       "      <td>1.836546</td>\n",
       "      <td>-2.5</td>\n",
       "      <td>4.700000</td>\n",
       "      <td>5.800000</td>\n",
       "      <td>6.700000</td>\n",
       "      <td>12.200000</td>\n",
       "    </tr>\n",
       "    <tr>\n",
       "      <td>recpergame</td>\n",
       "      <td>470.0</td>\n",
       "      <td>2.120638</td>\n",
       "      <td>1.300557</td>\n",
       "      <td>0.1</td>\n",
       "      <td>1.100000</td>\n",
       "      <td>1.900000</td>\n",
       "      <td>2.900000</td>\n",
       "      <td>6.300000</td>\n",
       "    </tr>\n",
       "    <tr>\n",
       "      <td>yardspergame_rec</td>\n",
       "      <td>470.0</td>\n",
       "      <td>16.817872</td>\n",
       "      <td>11.623318</td>\n",
       "      <td>-5.0</td>\n",
       "      <td>7.850000</td>\n",
       "      <td>14.300000</td>\n",
       "      <td>23.600000</td>\n",
       "      <td>62.100000</td>\n",
       "    </tr>\n",
       "    <tr>\n",
       "      <td>fumbles</td>\n",
       "      <td>470.0</td>\n",
       "      <td>1.774468</td>\n",
       "      <td>1.694147</td>\n",
       "      <td>0.0</td>\n",
       "      <td>0.000000</td>\n",
       "      <td>1.000000</td>\n",
       "      <td>3.000000</td>\n",
       "      <td>9.000000</td>\n",
       "    </tr>\n",
       "    <tr>\n",
       "      <td>team_adjusted_line_yards</td>\n",
       "      <td>470.0</td>\n",
       "      <td>16.387234</td>\n",
       "      <td>9.328810</td>\n",
       "      <td>1.0</td>\n",
       "      <td>8.000000</td>\n",
       "      <td>16.000000</td>\n",
       "      <td>24.000000</td>\n",
       "      <td>32.000000</td>\n",
       "    </tr>\n",
       "    <tr>\n",
       "      <td>team_running_back_yards</td>\n",
       "      <td>470.0</td>\n",
       "      <td>16.102128</td>\n",
       "      <td>9.197791</td>\n",
       "      <td>1.0</td>\n",
       "      <td>8.000000</td>\n",
       "      <td>16.000000</td>\n",
       "      <td>24.000000</td>\n",
       "      <td>32.000000</td>\n",
       "    </tr>\n",
       "    <tr>\n",
       "      <td>team_stuffed_rate</td>\n",
       "      <td>470.0</td>\n",
       "      <td>16.229787</td>\n",
       "      <td>9.225808</td>\n",
       "      <td>1.0</td>\n",
       "      <td>8.000000</td>\n",
       "      <td>16.000000</td>\n",
       "      <td>24.000000</td>\n",
       "      <td>32.000000</td>\n",
       "    </tr>\n",
       "  </tbody>\n",
       "</table>\n",
       "</div>"
      ],
      "text/plain": [
       "                          count        mean         std   min         25%  \\\n",
       "age                       470.0   25.374468    2.913132  21.0   23.000000   \n",
       "draft_pos                 470.0   68.329787   68.766653  -1.0    9.000000   \n",
       "attempts                  470.0  144.091489   91.154606   2.0   65.250000   \n",
       "yards_run                 470.0  623.561702  416.246876  -3.0  284.500000   \n",
       "tds_run                   470.0    4.568085    4.088916   0.0    1.000000   \n",
       "longgain_run              470.0   40.725532   21.015356   3.0   24.000000   \n",
       "yardsperatt               470.0    4.243404    0.860548  -0.3    3.800000   \n",
       "yardspergame_run          470.0   47.543830   25.989095  -0.2   27.025000   \n",
       "Percenthit (%)            470.0    1.755724    1.999999   0.0    0.426749   \n",
       "g                         470.0   12.982979    3.475121   1.0   11.000000   \n",
       "gs                        470.0    7.314894    5.602580   0.0    2.000000   \n",
       "tgt                       470.0   37.517021   25.693758   2.0   17.000000   \n",
       "rec                       470.0   27.991489   19.668466   1.0   12.000000   \n",
       "yards_rec                 470.0  224.195745  173.991054  -5.0   90.000000   \n",
       "yardsperrec               470.0    7.801915    2.336768  -5.0    6.500000   \n",
       "tds_rec                   470.0    0.957447    1.332830   0.0    0.000000   \n",
       "firstdowns                470.0    9.953191    7.921385   0.0    4.000000   \n",
       "longgain_rec              470.0   29.527660   16.612422  -5.0   18.000000   \n",
       "yardspertarget            470.0    5.777872    1.836546  -2.5    4.700000   \n",
       "recpergame                470.0    2.120638    1.300557   0.1    1.100000   \n",
       "yardspergame_rec          470.0   16.817872   11.623318  -5.0    7.850000   \n",
       "fumbles                   470.0    1.774468    1.694147   0.0    0.000000   \n",
       "team_adjusted_line_yards  470.0   16.387234    9.328810   1.0    8.000000   \n",
       "team_running_back_yards   470.0   16.102128    9.197791   1.0    8.000000   \n",
       "team_stuffed_rate         470.0   16.229787    9.225808   1.0    8.000000   \n",
       "\n",
       "                                 50%         75%          max  \n",
       "age                        25.000000   27.000000    37.000000  \n",
       "draft_pos                  55.000000   97.000000   250.000000  \n",
       "attempts                  131.500000  216.000000   392.000000  \n",
       "yards_run                 543.500000  934.750000  1845.000000  \n",
       "tds_run                     4.000000    7.000000    28.000000  \n",
       "longgain_run               38.000000   55.000000    97.000000  \n",
       "yardsperatt                 4.200000    4.800000     7.700000  \n",
       "yardspergame_run           45.550000   67.050000   122.400000  \n",
       "Percenthit (%)              0.829555    2.362975    11.300813  \n",
       "g                          14.000000   16.000000    16.000000  \n",
       "gs                          7.000000   12.000000    16.000000  \n",
       "tgt                        33.000000   53.000000   137.000000  \n",
       "rec                        23.000000   39.000000   100.000000  \n",
       "yards_rec                 180.500000  316.500000   993.000000  \n",
       "yardsperrec                 7.700000    8.900000    19.000000  \n",
       "tds_rec                     1.000000    1.000000     8.000000  \n",
       "firstdowns                  8.000000   14.000000    42.000000  \n",
       "longgain_rec               25.000000   37.000000    84.000000  \n",
       "yardspertarget              5.800000    6.700000    12.200000  \n",
       "recpergame                  1.900000    2.900000     6.300000  \n",
       "yardspergame_rec           14.300000   23.600000    62.100000  \n",
       "fumbles                     1.000000    3.000000     9.000000  \n",
       "team_adjusted_line_yards   16.000000   24.000000    32.000000  \n",
       "team_running_back_yards    16.000000   24.000000    32.000000  \n",
       "team_stuffed_rate          16.000000   24.000000    32.000000  "
      ]
     },
     "execution_count": 49,
     "metadata": {},
     "output_type": "execute_result"
    }
   ],
   "source": [
    "train_dataset.describe().transpose()"
   ]
  },
  {
   "cell_type": "code",
   "execution_count": 50,
   "metadata": {},
   "outputs": [],
   "source": [
    "#'Percenthit (%)'"
   ]
  },
  {
   "cell_type": "code",
   "execution_count": 51,
   "metadata": {},
   "outputs": [],
   "source": [
    "train_features = train_dataset.copy()\n",
    "test_features = test_dataset.copy()\n",
    "\n",
    "train_labels = train_features.pop('Percenthit (%)')\n",
    "test_labels = test_features.pop('Percenthit (%)')"
   ]
  },
  {
   "cell_type": "code",
   "execution_count": 52,
   "metadata": {},
   "outputs": [
    {
     "data": {
      "text/html": [
       "<div>\n",
       "<style scoped>\n",
       "    .dataframe tbody tr th:only-of-type {\n",
       "        vertical-align: middle;\n",
       "    }\n",
       "\n",
       "    .dataframe tbody tr th {\n",
       "        vertical-align: top;\n",
       "    }\n",
       "\n",
       "    .dataframe thead th {\n",
       "        text-align: right;\n",
       "    }\n",
       "</style>\n",
       "<table border=\"1\" class=\"dataframe\">\n",
       "  <thead>\n",
       "    <tr style=\"text-align: right;\">\n",
       "      <th></th>\n",
       "      <th>age</th>\n",
       "      <th>draft_pos</th>\n",
       "      <th>attempts</th>\n",
       "      <th>yards_run</th>\n",
       "      <th>tds_run</th>\n",
       "      <th>longgain_run</th>\n",
       "      <th>yardsperatt</th>\n",
       "      <th>yardspergame_run</th>\n",
       "      <th>g</th>\n",
       "      <th>gs</th>\n",
       "      <th>...</th>\n",
       "      <th>tds_rec</th>\n",
       "      <th>firstdowns</th>\n",
       "      <th>longgain_rec</th>\n",
       "      <th>yardspertarget</th>\n",
       "      <th>recpergame</th>\n",
       "      <th>yardspergame_rec</th>\n",
       "      <th>fumbles</th>\n",
       "      <th>team_adjusted_line_yards</th>\n",
       "      <th>team_running_back_yards</th>\n",
       "      <th>team_stuffed_rate</th>\n",
       "    </tr>\n",
       "  </thead>\n",
       "  <tbody>\n",
       "    <tr>\n",
       "      <td>525</td>\n",
       "      <td>31</td>\n",
       "      <td>24</td>\n",
       "      <td>190</td>\n",
       "      <td>707</td>\n",
       "      <td>6</td>\n",
       "      <td>55</td>\n",
       "      <td>3.7</td>\n",
       "      <td>47.1</td>\n",
       "      <td>15</td>\n",
       "      <td>15</td>\n",
       "      <td>...</td>\n",
       "      <td>0</td>\n",
       "      <td>6</td>\n",
       "      <td>17</td>\n",
       "      <td>5.5</td>\n",
       "      <td>1.3</td>\n",
       "      <td>9.9</td>\n",
       "      <td>0</td>\n",
       "      <td>14.0</td>\n",
       "      <td>21.0</td>\n",
       "      <td>20.0</td>\n",
       "    </tr>\n",
       "    <tr>\n",
       "      <td>479</td>\n",
       "      <td>27</td>\n",
       "      <td>105</td>\n",
       "      <td>17</td>\n",
       "      <td>39</td>\n",
       "      <td>0</td>\n",
       "      <td>12</td>\n",
       "      <td>2.3</td>\n",
       "      <td>4.3</td>\n",
       "      <td>9</td>\n",
       "      <td>0</td>\n",
       "      <td>...</td>\n",
       "      <td>1</td>\n",
       "      <td>6</td>\n",
       "      <td>15</td>\n",
       "      <td>4.7</td>\n",
       "      <td>1.0</td>\n",
       "      <td>8.3</td>\n",
       "      <td>0</td>\n",
       "      <td>19.0</td>\n",
       "      <td>20.0</td>\n",
       "      <td>6.0</td>\n",
       "    </tr>\n",
       "    <tr>\n",
       "      <td>391</td>\n",
       "      <td>24</td>\n",
       "      <td>-1</td>\n",
       "      <td>123</td>\n",
       "      <td>623</td>\n",
       "      <td>1</td>\n",
       "      <td>83</td>\n",
       "      <td>5.1</td>\n",
       "      <td>47.9</td>\n",
       "      <td>13</td>\n",
       "      <td>5</td>\n",
       "      <td>...</td>\n",
       "      <td>1</td>\n",
       "      <td>6</td>\n",
       "      <td>17</td>\n",
       "      <td>5.5</td>\n",
       "      <td>1.5</td>\n",
       "      <td>9.2</td>\n",
       "      <td>2</td>\n",
       "      <td>8.0</td>\n",
       "      <td>5.0</td>\n",
       "      <td>20.0</td>\n",
       "    </tr>\n",
       "    <tr>\n",
       "      <td>165</td>\n",
       "      <td>23</td>\n",
       "      <td>74</td>\n",
       "      <td>79</td>\n",
       "      <td>299</td>\n",
       "      <td>1</td>\n",
       "      <td>18</td>\n",
       "      <td>3.8</td>\n",
       "      <td>42.7</td>\n",
       "      <td>11</td>\n",
       "      <td>11</td>\n",
       "      <td>...</td>\n",
       "      <td>0</td>\n",
       "      <td>6</td>\n",
       "      <td>34</td>\n",
       "      <td>5.3</td>\n",
       "      <td>2.5</td>\n",
       "      <td>18.8</td>\n",
       "      <td>1</td>\n",
       "      <td>15.0</td>\n",
       "      <td>11.0</td>\n",
       "      <td>15.0</td>\n",
       "    </tr>\n",
       "    <tr>\n",
       "      <td>503</td>\n",
       "      <td>27</td>\n",
       "      <td>56</td>\n",
       "      <td>33</td>\n",
       "      <td>158</td>\n",
       "      <td>1</td>\n",
       "      <td>25</td>\n",
       "      <td>4.8</td>\n",
       "      <td>31.6</td>\n",
       "      <td>5</td>\n",
       "      <td>1</td>\n",
       "      <td>...</td>\n",
       "      <td>0</td>\n",
       "      <td>4</td>\n",
       "      <td>16</td>\n",
       "      <td>4.9</td>\n",
       "      <td>2.2</td>\n",
       "      <td>18.8</td>\n",
       "      <td>2</td>\n",
       "      <td>24.0</td>\n",
       "      <td>28.0</td>\n",
       "      <td>9.0</td>\n",
       "    </tr>\n",
       "    <tr>\n",
       "      <td>...</td>\n",
       "      <td>...</td>\n",
       "      <td>...</td>\n",
       "      <td>...</td>\n",
       "      <td>...</td>\n",
       "      <td>...</td>\n",
       "      <td>...</td>\n",
       "      <td>...</td>\n",
       "      <td>...</td>\n",
       "      <td>...</td>\n",
       "      <td>...</td>\n",
       "      <td>...</td>\n",
       "      <td>...</td>\n",
       "      <td>...</td>\n",
       "      <td>...</td>\n",
       "      <td>...</td>\n",
       "      <td>...</td>\n",
       "      <td>...</td>\n",
       "      <td>...</td>\n",
       "      <td>...</td>\n",
       "      <td>...</td>\n",
       "      <td>...</td>\n",
       "    </tr>\n",
       "    <tr>\n",
       "      <td>226</td>\n",
       "      <td>30</td>\n",
       "      <td>-1</td>\n",
       "      <td>170</td>\n",
       "      <td>934</td>\n",
       "      <td>6</td>\n",
       "      <td>80</td>\n",
       "      <td>5.5</td>\n",
       "      <td>93.4</td>\n",
       "      <td>10</td>\n",
       "      <td>10</td>\n",
       "      <td>...</td>\n",
       "      <td>0</td>\n",
       "      <td>15</td>\n",
       "      <td>49</td>\n",
       "      <td>8.8</td>\n",
       "      <td>3.9</td>\n",
       "      <td>44.2</td>\n",
       "      <td>2</td>\n",
       "      <td>12.0</td>\n",
       "      <td>2.0</td>\n",
       "      <td>14.0</td>\n",
       "    </tr>\n",
       "    <tr>\n",
       "      <td>94</td>\n",
       "      <td>29</td>\n",
       "      <td>57</td>\n",
       "      <td>245</td>\n",
       "      <td>1070</td>\n",
       "      <td>6</td>\n",
       "      <td>58</td>\n",
       "      <td>4.4</td>\n",
       "      <td>66.9</td>\n",
       "      <td>16</td>\n",
       "      <td>14</td>\n",
       "      <td>...</td>\n",
       "      <td>0</td>\n",
       "      <td>2</td>\n",
       "      <td>14</td>\n",
       "      <td>2.6</td>\n",
       "      <td>0.6</td>\n",
       "      <td>2.6</td>\n",
       "      <td>4</td>\n",
       "      <td>21.0</td>\n",
       "      <td>12.0</td>\n",
       "      <td>11.0</td>\n",
       "    </tr>\n",
       "    <tr>\n",
       "      <td>3</td>\n",
       "      <td>23</td>\n",
       "      <td>7</td>\n",
       "      <td>81</td>\n",
       "      <td>448</td>\n",
       "      <td>4</td>\n",
       "      <td>46</td>\n",
       "      <td>5.5</td>\n",
       "      <td>37.3</td>\n",
       "      <td>12</td>\n",
       "      <td>4</td>\n",
       "      <td>...</td>\n",
       "      <td>0</td>\n",
       "      <td>2</td>\n",
       "      <td>9</td>\n",
       "      <td>1.2</td>\n",
       "      <td>0.8</td>\n",
       "      <td>1.8</td>\n",
       "      <td>0</td>\n",
       "      <td>5.0</td>\n",
       "      <td>13.0</td>\n",
       "      <td>2.0</td>\n",
       "    </tr>\n",
       "    <tr>\n",
       "      <td>485</td>\n",
       "      <td>22</td>\n",
       "      <td>71</td>\n",
       "      <td>130</td>\n",
       "      <td>521</td>\n",
       "      <td>5</td>\n",
       "      <td>24</td>\n",
       "      <td>4.0</td>\n",
       "      <td>37.2</td>\n",
       "      <td>14</td>\n",
       "      <td>8</td>\n",
       "      <td>...</td>\n",
       "      <td>0</td>\n",
       "      <td>2</td>\n",
       "      <td>9</td>\n",
       "      <td>3.6</td>\n",
       "      <td>1.0</td>\n",
       "      <td>5.1</td>\n",
       "      <td>1</td>\n",
       "      <td>6.0</td>\n",
       "      <td>3.0</td>\n",
       "      <td>14.0</td>\n",
       "    </tr>\n",
       "    <tr>\n",
       "      <td>125</td>\n",
       "      <td>22</td>\n",
       "      <td>41</td>\n",
       "      <td>74</td>\n",
       "      <td>354</td>\n",
       "      <td>2</td>\n",
       "      <td>33</td>\n",
       "      <td>4.8</td>\n",
       "      <td>88.5</td>\n",
       "      <td>4</td>\n",
       "      <td>4</td>\n",
       "      <td>...</td>\n",
       "      <td>0</td>\n",
       "      <td>3</td>\n",
       "      <td>36</td>\n",
       "      <td>5.6</td>\n",
       "      <td>2.8</td>\n",
       "      <td>22.5</td>\n",
       "      <td>1</td>\n",
       "      <td>19.0</td>\n",
       "      <td>20.0</td>\n",
       "      <td>19.0</td>\n",
       "    </tr>\n",
       "  </tbody>\n",
       "</table>\n",
       "<p>470 rows × 24 columns</p>\n",
       "</div>"
      ],
      "text/plain": [
       "     age  draft_pos  attempts  yards_run  tds_run  longgain_run  yardsperatt  \\\n",
       "525   31         24       190        707        6            55          3.7   \n",
       "479   27        105        17         39        0            12          2.3   \n",
       "391   24         -1       123        623        1            83          5.1   \n",
       "165   23         74        79        299        1            18          3.8   \n",
       "503   27         56        33        158        1            25          4.8   \n",
       "..   ...        ...       ...        ...      ...           ...          ...   \n",
       "226   30         -1       170        934        6            80          5.5   \n",
       "94    29         57       245       1070        6            58          4.4   \n",
       "3     23          7        81        448        4            46          5.5   \n",
       "485   22         71       130        521        5            24          4.0   \n",
       "125   22         41        74        354        2            33          4.8   \n",
       "\n",
       "     yardspergame_run   g  gs  ...  tds_rec  firstdowns  longgain_rec  \\\n",
       "525              47.1  15  15  ...        0           6            17   \n",
       "479               4.3   9   0  ...        1           6            15   \n",
       "391              47.9  13   5  ...        1           6            17   \n",
       "165              42.7  11  11  ...        0           6            34   \n",
       "503              31.6   5   1  ...        0           4            16   \n",
       "..                ...  ..  ..  ...      ...         ...           ...   \n",
       "226              93.4  10  10  ...        0          15            49   \n",
       "94               66.9  16  14  ...        0           2            14   \n",
       "3                37.3  12   4  ...        0           2             9   \n",
       "485              37.2  14   8  ...        0           2             9   \n",
       "125              88.5   4   4  ...        0           3            36   \n",
       "\n",
       "     yardspertarget  recpergame  yardspergame_rec  fumbles  \\\n",
       "525             5.5         1.3               9.9        0   \n",
       "479             4.7         1.0               8.3        0   \n",
       "391             5.5         1.5               9.2        2   \n",
       "165             5.3         2.5              18.8        1   \n",
       "503             4.9         2.2              18.8        2   \n",
       "..              ...         ...               ...      ...   \n",
       "226             8.8         3.9              44.2        2   \n",
       "94              2.6         0.6               2.6        4   \n",
       "3               1.2         0.8               1.8        0   \n",
       "485             3.6         1.0               5.1        1   \n",
       "125             5.6         2.8              22.5        1   \n",
       "\n",
       "     team_adjusted_line_yards  team_running_back_yards  team_stuffed_rate  \n",
       "525                      14.0                     21.0               20.0  \n",
       "479                      19.0                     20.0                6.0  \n",
       "391                       8.0                      5.0               20.0  \n",
       "165                      15.0                     11.0               15.0  \n",
       "503                      24.0                     28.0                9.0  \n",
       "..                        ...                      ...                ...  \n",
       "226                      12.0                      2.0               14.0  \n",
       "94                       21.0                     12.0               11.0  \n",
       "3                         5.0                     13.0                2.0  \n",
       "485                       6.0                      3.0               14.0  \n",
       "125                      19.0                     20.0               19.0  \n",
       "\n",
       "[470 rows x 24 columns]"
      ]
     },
     "execution_count": 52,
     "metadata": {},
     "output_type": "execute_result"
    }
   ],
   "source": [
    "train_features"
   ]
  },
  {
   "cell_type": "code",
   "execution_count": 53,
   "metadata": {},
   "outputs": [],
   "source": [
    "normalizer = preprocessing.Normalization()"
   ]
  },
  {
   "cell_type": "code",
   "execution_count": 56,
   "metadata": {},
   "outputs": [],
   "source": [
    "normalizer.adapt(np.array(train_features))"
   ]
  },
  {
   "cell_type": "code",
   "execution_count": 57,
   "metadata": {},
   "outputs": [
    {
     "name": "stdout",
     "output_type": "stream",
     "text": [
      "First example: [[ 31.   24.  190.  707.    6.   55.    3.7  47.1  15.   15.   27.   20.\n",
      "  148.    7.4   0.    6.   17.    5.5   1.3   9.9   0.   14.   21.   20. ]]\n",
      "\n",
      "Normalized: [[ 1.93 -0.65  0.5   0.2   0.35  0.68 -0.63 -0.02  0.58  1.37 -0.41 -0.41\n",
      "  -0.44 -0.17 -0.72 -0.5  -0.75 -0.15 -0.63 -0.6  -1.05 -0.26  0.53  0.41]]\n"
     ]
    }
   ],
   "source": [
    "first = np.array(train_features[:1])\n",
    "\n",
    "with np.printoptions(precision=2, suppress=True):\n",
    "  print('First example:', first)\n",
    "  print()\n",
    "  print('Normalized:', normalizer(first).numpy())"
   ]
  },
  {
   "cell_type": "markdown",
   "metadata": {},
   "source": [
    "## 1 Attribute Linear model"
   ]
  },
  {
   "cell_type": "code",
   "execution_count": 58,
   "metadata": {},
   "outputs": [],
   "source": [
    "ypg = np.array(train_features['yardspergame_run'])\n",
    "\n",
    "ypg_normalizer = preprocessing.Normalization(input_shape=[1,])\n",
    "ypg_normalizer.adapt(ypg)"
   ]
  },
  {
   "cell_type": "code",
   "execution_count": 59,
   "metadata": {},
   "outputs": [
    {
     "name": "stdout",
     "output_type": "stream",
     "text": [
      "Model: \"sequential\"\n",
      "_________________________________________________________________\n",
      "Layer (type)                 Output Shape              Param #   \n",
      "=================================================================\n",
      "normalization_4 (Normalizati (None, 1)                 3         \n",
      "_________________________________________________________________\n",
      "dense (Dense)                (None, 1)                 2         \n",
      "=================================================================\n",
      "Total params: 5\n",
      "Trainable params: 2\n",
      "Non-trainable params: 3\n",
      "_________________________________________________________________\n"
     ]
    }
   ],
   "source": [
    "ypg_model = tf.keras.Sequential([\n",
    "    ypg_normalizer,\n",
    "    layers.Dense(units=1)\n",
    "])\n",
    "\n",
    "ypg_model.summary()"
   ]
  },
  {
   "cell_type": "code",
   "execution_count": 61,
   "metadata": {},
   "outputs": [
    {
     "data": {
      "text/plain": [
       "array([[-0.02377894],\n",
       "       [-2.3168488 ],\n",
       "       [ 0.01908234],\n",
       "       [-0.259515  ],\n",
       "       [-0.85421306],\n",
       "       [-0.49525124],\n",
       "       [-1.5346334 ],\n",
       "       [ 3.3461769 ],\n",
       "       [-0.68276864],\n",
       "       [-0.4309595 ]], dtype=float32)"
      ]
     },
     "execution_count": 61,
     "metadata": {},
     "output_type": "execute_result"
    }
   ],
   "source": [
    "ypg_model.predict(ypg[:10])"
   ]
  },
  {
   "cell_type": "code",
   "execution_count": 62,
   "metadata": {},
   "outputs": [],
   "source": [
    "ypg_model.compile(\n",
    "    optimizer=tf.optimizers.Adam(learning_rate=0.1),\n",
    "    loss='mean_absolute_error')"
   ]
  },
  {
   "cell_type": "code",
   "execution_count": 63,
   "metadata": {},
   "outputs": [
    {
     "name": "stdout",
     "output_type": "stream",
     "text": [
      "Wall time: 3.05 s\n"
     ]
    }
   ],
   "source": [
    "%%time\n",
    "history = ypg_model.fit(\n",
    "    train_features['yardspergame_run'], train_labels,\n",
    "    epochs=100,\n",
    "    # suppress logging\n",
    "    verbose=0,\n",
    "    # Calculate validation results on 20% of the training data\n",
    "    validation_split = 0.2)"
   ]
  },
  {
   "cell_type": "code",
   "execution_count": 64,
   "metadata": {},
   "outputs": [
    {
     "data": {
      "text/html": [
       "<div>\n",
       "<style scoped>\n",
       "    .dataframe tbody tr th:only-of-type {\n",
       "        vertical-align: middle;\n",
       "    }\n",
       "\n",
       "    .dataframe tbody tr th {\n",
       "        vertical-align: top;\n",
       "    }\n",
       "\n",
       "    .dataframe thead th {\n",
       "        text-align: right;\n",
       "    }\n",
       "</style>\n",
       "<table border=\"1\" class=\"dataframe\">\n",
       "  <thead>\n",
       "    <tr style=\"text-align: right;\">\n",
       "      <th></th>\n",
       "      <th>loss</th>\n",
       "      <th>val_loss</th>\n",
       "      <th>epoch</th>\n",
       "    </tr>\n",
       "  </thead>\n",
       "  <tbody>\n",
       "    <tr>\n",
       "      <td>95</td>\n",
       "      <td>1.204272</td>\n",
       "      <td>1.245800</td>\n",
       "      <td>95</td>\n",
       "    </tr>\n",
       "    <tr>\n",
       "      <td>96</td>\n",
       "      <td>1.209406</td>\n",
       "      <td>1.245970</td>\n",
       "      <td>96</td>\n",
       "    </tr>\n",
       "    <tr>\n",
       "      <td>97</td>\n",
       "      <td>1.204193</td>\n",
       "      <td>1.252591</td>\n",
       "      <td>97</td>\n",
       "    </tr>\n",
       "    <tr>\n",
       "      <td>98</td>\n",
       "      <td>1.207839</td>\n",
       "      <td>1.258401</td>\n",
       "      <td>98</td>\n",
       "    </tr>\n",
       "    <tr>\n",
       "      <td>99</td>\n",
       "      <td>1.208294</td>\n",
       "      <td>1.251015</td>\n",
       "      <td>99</td>\n",
       "    </tr>\n",
       "  </tbody>\n",
       "</table>\n",
       "</div>"
      ],
      "text/plain": [
       "        loss  val_loss  epoch\n",
       "95  1.204272  1.245800     95\n",
       "96  1.209406  1.245970     96\n",
       "97  1.204193  1.252591     97\n",
       "98  1.207839  1.258401     98\n",
       "99  1.208294  1.251015     99"
      ]
     },
     "execution_count": 64,
     "metadata": {},
     "output_type": "execute_result"
    }
   ],
   "source": [
    "hist = pd.DataFrame(history.history)\n",
    "hist['epoch'] = history.epoch\n",
    "hist.tail()"
   ]
  },
  {
   "cell_type": "code",
   "execution_count": 74,
   "metadata": {},
   "outputs": [
    {
     "data": {
      "image/png": "[encoded data removed]",
      "text/plain": [
       "<Figure size 432x288 with 1 Axes>"
      ]
     },
     "metadata": {
      "needs_background": "light"
     },
     "output_type": "display_data"
    }
   ],
   "source": [
    "def plot_loss(history):\n",
    "  plt.plot(history.history['loss'], label='loss')\n",
    "  plt.plot(history.history['val_loss'], label='val_loss')\n",
    "  plt.ylim([0, 2])\n",
    "  plt.xlabel('Epoch')\n",
    "  plt.ylabel('Error [cap%]')\n",
    "  plt.legend()\n",
    "  plt.grid(True)\n",
    "plot_loss(history)"
   ]
  },
  {
   "cell_type": "code",
   "execution_count": 69,
   "metadata": {},
   "outputs": [],
   "source": [
    "test_results = {}\n",
    "\n",
    "test_results['ypg_model'] = ypg_model.evaluate(\n",
    "    test_features['yardspergame_run'],\n",
    "    test_labels, verbose=0)"
   ]
  },
  {
   "cell_type": "code",
   "execution_count": 71,
   "metadata": {},
   "outputs": [],
   "source": [
    "x = tf.linspace(0.0, 250, 251)\n",
    "y = ypg_model.predict(x)"
   ]
  },
  {
   "cell_type": "code",
   "execution_count": 75,
   "metadata": {},
   "outputs": [
    {
     "data": {
      "image/png": "[encoded data removed]",
      "text/plain": [
       "<Figure size 432x288 with 1 Axes>"
      ]
     },
     "metadata": {
      "needs_background": "light"
     },
     "output_type": "display_data"
    }
   ],
   "source": [
    "def plot_horsepower(x, y):\n",
    "  plt.scatter(train_features['yardspergame_run'], train_labels, label='Data')\n",
    "  plt.plot(x, y, color='k', label='Predictions')\n",
    "  plt.xlabel('ypg')\n",
    "  plt.ylabel('cap%')\n",
    "  plt.legend()\n",
    "plot_horsepower(x,y)"
   ]
  },
  {
   "cell_type": "markdown",
   "metadata": {},
   "source": [
    "## Multiple input Linear "
   ]
  },
  {
   "cell_type": "code",
   "execution_count": 76,
   "metadata": {},
   "outputs": [],
   "source": [
    "linear_model = tf.keras.Sequential([\n",
    "    normalizer,\n",
    "    layers.Dense(units=1)\n",
    "])"
   ]
  },
  {
   "cell_type": "code",
   "execution_count": 77,
   "metadata": {},
   "outputs": [
    {
     "data": {
      "text/plain": [
       "array([[ 0.45713383],\n",
       "       [-2.0384297 ],\n",
       "       [-0.17470425],\n",
       "       [-1.8909682 ],\n",
       "       [-0.6040747 ],\n",
       "       [-0.00879008],\n",
       "       [-1.141384  ],\n",
       "       [ 0.13308364],\n",
       "       [ 5.4120483 ],\n",
       "       [ 0.4097252 ]], dtype=float32)"
      ]
     },
     "execution_count": 77,
     "metadata": {},
     "output_type": "execute_result"
    }
   ],
   "source": [
    "linear_model.predict(train_features[:10])"
   ]
  },
  {
   "cell_type": "code",
   "execution_count": 78,
   "metadata": {},
   "outputs": [
    {
     "data": {
      "text/plain": [
       "<tf.Variable 'dense_1/kernel:0' shape=(24, 1) dtype=float32, numpy=\n",
       "array([[ 0.42689106],\n",
       "       [-0.40044117],\n",
       "       [-0.08917248],\n",
       "       [ 0.3055571 ],\n",
       "       [ 0.34202102],\n",
       "       [ 0.22223452],\n",
       "       [ 0.2468485 ],\n",
       "       [-0.1815474 ],\n",
       "       [ 0.1852453 ],\n",
       "       [-0.47199705],\n",
       "       [-0.01084739],\n",
       "       [ 0.4721398 ],\n",
       "       [ 0.20844838],\n",
       "       [ 0.15225855],\n",
       "       [-0.14669207],\n",
       "       [ 0.4729366 ],\n",
       "       [ 0.10447338],\n",
       "       [-0.35251218],\n",
       "       [-0.22088194],\n",
       "       [ 0.47804663],\n",
       "       [ 0.04007152],\n",
       "       [-0.28265995],\n",
       "       [ 0.39880374],\n",
       "       [ 0.35030207]], dtype=float32)>"
      ]
     },
     "execution_count": 78,
     "metadata": {},
     "output_type": "execute_result"
    }
   ],
   "source": [
    "linear_model.layers[1].kernel"
   ]
  },
  {
   "cell_type": "code",
   "execution_count": 87,
   "metadata": {},
   "outputs": [],
   "source": [
    "linear_model.compile(\n",
    "    optimizer=tf.optimizers.Adam(learning_rate=0.1),\n",
    "    loss='mean_absolute_error')"
   ]
  },
  {
   "cell_type": "code",
   "execution_count": 88,
   "metadata": {},
   "outputs": [
    {
     "name": "stdout",
     "output_type": "stream",
     "text": [
      "Wall time: 2.46 s\n"
     ]
    }
   ],
   "source": [
    "%%time\n",
    "history = linear_model.fit(\n",
    "    train_features, train_labels, \n",
    "    epochs=100,\n",
    "    # suppress logging\n",
    "    verbose=0,\n",
    "    # Calculate validation results on 20% of the training data\n",
    "    validation_split = 0.2)"
   ]
  },
  {
   "cell_type": "code",
   "execution_count": 89,
   "metadata": {},
   "outputs": [
    {
     "data": {
      "image/png": "[encoded data removed]",
      "text/plain": [
       "<Figure size 432x288 with 1 Axes>"
      ]
     },
     "metadata": {
      "needs_background": "light"
     },
     "output_type": "display_data"
    }
   ],
   "source": [
    "plot_loss(history)"
   ]
  },
  {
   "cell_type": "code",
   "execution_count": 90,
   "metadata": {},
   "outputs": [],
   "source": [
    "test_results['linear_model'] = linear_model.evaluate(\n",
    "    test_features, test_labels, verbose=0)"
   ]
  },
  {
   "cell_type": "markdown",
   "metadata": {},
   "source": [
    "# DNN Model"
   ]
  },
  {
   "cell_type": "code",
   "execution_count": 91,
   "metadata": {},
   "outputs": [],
   "source": [
    "def build_and_compile_model(norm):\n",
    "  model = keras.Sequential([\n",
    "      norm,\n",
    "      layers.Dense(64, activation='relu'),\n",
    "      layers.Dense(64, activation='relu'),\n",
    "      layers.Dense(1)\n",
    "  ])\n",
    "\n",
    "  model.compile(loss='mean_absolute_error',\n",
    "                optimizer=tf.keras.optimizers.Adam(0.001))\n",
    "  return model"
   ]
  },
  {
   "cell_type": "code",
   "execution_count": 92,
   "metadata": {},
   "outputs": [
    {
     "name": "stdout",
     "output_type": "stream",
     "text": [
      "Model: \"sequential_2\"\n",
      "_________________________________________________________________\n",
      "Layer (type)                 Output Shape              Param #   \n",
      "=================================================================\n",
      "normalization_3 (Normalizati (None, 24)                49        \n",
      "_________________________________________________________________\n",
      "dense_2 (Dense)              (None, 64)                1600      \n",
      "_________________________________________________________________\n",
      "dense_3 (Dense)              (None, 64)                4160      \n",
      "_________________________________________________________________\n",
      "dense_4 (Dense)              (None, 1)                 65        \n",
      "=================================================================\n",
      "Total params: 5,874\n",
      "Trainable params: 5,825\n",
      "Non-trainable params: 49\n",
      "_________________________________________________________________\n"
     ]
    }
   ],
   "source": [
    "dnn_model = build_and_compile_model(normalizer)\n",
    "dnn_model.summary()"
   ]
  },
  {
   "cell_type": "code",
   "execution_count": 93,
   "metadata": {},
   "outputs": [
    {
     "name": "stdout",
     "output_type": "stream",
     "text": [
      "Wall time: 2.66 s\n"
     ]
    }
   ],
   "source": [
    "%%time\n",
    "history = dnn_model.fit(\n",
    "    train_features, train_labels,\n",
    "    validation_split=0.2,\n",
    "    verbose=0, epochs=100)"
   ]
  },
  {
   "cell_type": "code",
   "execution_count": 94,
   "metadata": {},
   "outputs": [
    {
     "data": {
      "image/png": "[encoded data removed]",
      "text/plain": [
       "<Figure size 432x288 with 1 Axes>"
      ]
     },
     "metadata": {
      "needs_background": "light"
     },
     "output_type": "display_data"
    }
   ],
   "source": [
    "plot_loss(history)"
   ]
  },
  {
   "cell_type": "code",
   "execution_count": 95,
   "metadata": {},
   "outputs": [],
   "source": [
    "test_results['dnn_model'] = dnn_model.evaluate(test_features, test_labels, verbose=0)"
   ]
  },
  {
   "cell_type": "code",
   "execution_count": 97,
   "metadata": {},
   "outputs": [
    {
     "data": {
      "text/html": [
       "<div>\n",
       "<style scoped>\n",
       "    .dataframe tbody tr th:only-of-type {\n",
       "        vertical-align: middle;\n",
       "    }\n",
       "\n",
       "    .dataframe tbody tr th {\n",
       "        vertical-align: top;\n",
       "    }\n",
       "\n",
       "    .dataframe thead th {\n",
       "        text-align: right;\n",
       "    }\n",
       "</style>\n",
       "<table border=\"1\" class=\"dataframe\">\n",
       "  <thead>\n",
       "    <tr style=\"text-align: right;\">\n",
       "      <th></th>\n",
       "      <th>Mean absolute error [cap %]</th>\n",
       "    </tr>\n",
       "  </thead>\n",
       "  <tbody>\n",
       "    <tr>\n",
       "      <td>ypg_model</td>\n",
       "      <td>1.122454</td>\n",
       "    </tr>\n",
       "    <tr>\n",
       "      <td>linear_model</td>\n",
       "      <td>1.123733</td>\n",
       "    </tr>\n",
       "    <tr>\n",
       "      <td>dnn_model</td>\n",
       "      <td>0.976482</td>\n",
       "    </tr>\n",
       "  </tbody>\n",
       "</table>\n",
       "</div>"
      ],
      "text/plain": [
       "              Mean absolute error [cap %]\n",
       "ypg_model                        1.122454\n",
       "linear_model                     1.123733\n",
       "dnn_model                        0.976482"
      ]
     },
     "execution_count": 97,
     "metadata": {},
     "output_type": "execute_result"
    }
   ],
   "source": [
    "pd.DataFrame(test_results, index=['Mean absolute error [cap %]']).T"
   ]
  },
  {
   "cell_type": "code",
   "execution_count": 100,
   "metadata": {},
   "outputs": [
    {
     "data": {
      "image/png": "[encoded data removed]",
      "text/plain": [
       "<Figure size 432x288 with 1 Axes>"
      ]
     },
     "metadata": {
      "needs_background": "light"
     },
     "output_type": "display_data"
    }
   ],
   "source": [
    "test_predictions = dnn_model.predict(test_features).flatten()\n",
    "\n",
    "a = plt.axes(aspect='equal')\n",
    "plt.scatter(test_labels, test_predictions)\n",
    "plt.xlabel('True Values [cap%]')\n",
    "plt.ylabel('Predictions [cap%]')\n",
    "lims = [0, 12]\n",
    "plt.xlim(lims)\n",
    "plt.ylim(lims)\n",
    "_ = plt.plot(lims, lims)"
   ]
  },
  {
   "cell_type": "code",
   "execution_count": 102,
   "metadata": {},
   "outputs": [
    {
     "data": {
      "image/png": "[encoded data removed]",
      "text/plain": [
       "<Figure size 432x288 with 1 Axes>"
      ]
     },
     "metadata": {
      "needs_background": "light"
     },
     "output_type": "display_data"
    }
   ],
   "source": [
    "error = test_predictions - test_labels\n",
    "plt.hist(error, bins=25)\n",
    "plt.xlabel('Prediction Error [cap%]')\n",
    "_ = plt.ylabel('Count')"
   ]
  },
  {
   "cell_type": "code",
   "execution_count": 103,
   "metadata": {},
   "outputs": [
    {
     "name": "stdout",
     "output_type": "stream",
     "text": [
      "WARNING:tensorflow:From C:\\Users\\cmcin\\Anaconda3\\lib\\site-packages\\tensorflow\\python\\training\\tracking\\tracking.py:111: Model.state_updates (from tensorflow.python.keras.engine.training) is deprecated and will be removed in a future version.\n",
      "Instructions for updating:\n",
      "This property should not be used in TensorFlow 2.0, as updates are applied automatically.\n",
      "WARNING:tensorflow:From C:\\Users\\cmcin\\Anaconda3\\lib\\site-packages\\tensorflow\\python\\training\\tracking\\tracking.py:111: Layer.updates (from tensorflow.python.keras.engine.base_layer) is deprecated and will be removed in a future version.\n",
      "Instructions for updating:\n",
      "This property should not be used in TensorFlow 2.0, as updates are applied automatically.\n",
      "INFO:tensorflow:Assets written to: dnn_model_1\\assets\n"
     ]
    }
   ],
   "source": [
    "dnn_model.save('dnn_model_1')"
   ]
  },
  {
   "cell_type": "code",
   "execution_count": 104,
   "metadata": {},
   "outputs": [],
   "source": [
    "reloaded = tf.keras.models.load_model('dnn_model_1')\n",
    "\n",
    "test_results['reloaded'] = reloaded.evaluate(\n",
    "    test_features, test_labels, verbose=0)"
   ]
  },
  {
   "cell_type": "code",
   "execution_count": 105,
   "metadata": {},
   "outputs": [
    {
     "data": {
      "text/html": [
       "<div>\n",
       "<style scoped>\n",
       "    .dataframe tbody tr th:only-of-type {\n",
       "        vertical-align: middle;\n",
       "    }\n",
       "\n",
       "    .dataframe tbody tr th {\n",
       "        vertical-align: top;\n",
       "    }\n",
       "\n",
       "    .dataframe thead th {\n",
       "        text-align: right;\n",
       "    }\n",
       "</style>\n",
       "<table border=\"1\" class=\"dataframe\">\n",
       "  <thead>\n",
       "    <tr style=\"text-align: right;\">\n",
       "      <th></th>\n",
       "      <th>Mean absolute error [cap%]</th>\n",
       "    </tr>\n",
       "  </thead>\n",
       "  <tbody>\n",
       "    <tr>\n",
       "      <td>ypg_model</td>\n",
       "      <td>1.122454</td>\n",
       "    </tr>\n",
       "    <tr>\n",
       "      <td>linear_model</td>\n",
       "      <td>1.123733</td>\n",
       "    </tr>\n",
       "    <tr>\n",
       "      <td>dnn_model</td>\n",
       "      <td>0.976482</td>\n",
       "    </tr>\n",
       "    <tr>\n",
       "      <td>reloaded</td>\n",
       "      <td>0.976482</td>\n",
       "    </tr>\n",
       "  </tbody>\n",
       "</table>\n",
       "</div>"
      ],
      "text/plain": [
       "              Mean absolute error [cap%]\n",
       "ypg_model                       1.122454\n",
       "linear_model                    1.123733\n",
       "dnn_model                       0.976482\n",
       "reloaded                        0.976482"
      ]
     },
     "execution_count": 105,
     "metadata": {},
     "output_type": "execute_result"
    }
   ],
   "source": [
    "pd.DataFrame(test_results, index=['Mean absolute error [cap%]']).T"
   ]
  },
  {
   "cell_type": "code",
   "execution_count": 106,
   "metadata": {},
   "outputs": [
    {
     "data": {
      "text/plain": [
       "array([ 6.891777  ,  7.5110855 ,  0.12635934,  0.3569242 ,  0.55310476,\n",
       "        1.1641307 ,  1.1166962 ,  0.06646413,  1.6720322 ,  0.5586854 ,\n",
       "        0.5762304 ,  1.2904627 ,  0.01620926,  0.3052808 ,  0.10139424,\n",
       "        0.09674871,  1.298388  ,  0.40137944,  1.5479516 ,  0.49034366,\n",
       "        2.6229784 ,  0.78456366,  2.166416  ,  1.186406  ,  3.8026643 ,\n",
       "        0.62701416,  0.58777833,  4.177084  ,  3.9942966 ,  1.2236209 ,\n",
       "        0.63921607,  0.884815  ,  0.2548357 ,  1.8291907 ,  0.04432723,\n",
       "        2.7609813 ,  0.5686544 ,  0.6531794 ,  1.6935334 ,  1.0596167 ,\n",
       "        1.601129  ,  0.88349056,  0.6016245 , -0.37845576,  0.70431125,\n",
       "        1.5893645 ,  0.8138486 ,  4.0570693 ,  4.031229  ,  1.8203888 ,\n",
       "        2.5780516 ,  2.4828203 ,  2.9858882 ,  2.20656   ,  0.79216695,\n",
       "       -0.10106501,  1.2996749 ,  1.2224644 ,  1.8723322 ,  3.6925867 ,\n",
       "        0.6510681 ,  1.0964429 ,  0.48255405,  3.8894756 ,  1.2664912 ,\n",
       "        0.00998417,  0.38111705,  1.8199624 ,  0.5331377 ,  0.08759567,\n",
       "        0.787375  , -0.2449722 ,  2.268583  ,  3.5829923 ,  1.4523404 ,\n",
       "        0.819245  ,  1.5783324 ,  1.2600148 ,  0.05406383,  1.0083492 ,\n",
       "        4.5392475 ,  0.4916929 ,  1.2096251 ,  1.4612093 ,  2.5581203 ,\n",
       "        0.9024017 ,  4.590975  ,  1.5589097 ,  3.1904433 ,  0.38614795,\n",
       "        0.65296996,  1.7379433 ,  0.11782238,  2.1413035 ,  0.60363626,\n",
       "        5.1357365 , -0.08706254,  0.62472534, -0.19877326,  5.9336433 ,\n",
       "        0.8547994 ,  1.3777888 ,  1.4976951 ,  4.8483715 ,  1.1717197 ,\n",
       "        1.9062979 , -0.4229296 ,  0.85538936,  2.0680058 ,  0.26100537,\n",
       "        0.91151166,  0.538754  ,  0.8041941 ,  0.07685348,  1.6394026 ,\n",
       "        1.1230564 ,  0.39737985,  1.5370836 ], dtype=float32)"
      ]
     },
     "execution_count": 106,
     "metadata": {},
     "output_type": "execute_result"
    }
   ],
   "source": [
    "test_predictions"
   ]
  },
  {
   "cell_type": "code",
   "execution_count": 107,
   "metadata": {},
   "outputs": [
    {
     "name": "stdout",
     "output_type": "stream",
     "text": [
      "EVS:  0.5065574474500775\n"
     ]
    }
   ],
   "source": [
    "from sklearn.metrics import mean_absolute_error, mean_squared_error, explained_variance_score\n",
    "\n",
    "print(\"EVS: \", explained_variance_score(test_labels,test_predictions))"
   ]
  },
  {
   "cell_type": "code",
   "execution_count": null,
   "metadata": {},
   "outputs": [],
   "source": []
  }
 ],
 "metadata": {
  "kernelspec": {
   "display_name": "Python 3",
   "language": "python",
   "name": "python3"
  },
  "language_info": {
   "codemirror_mode": {
    "name": "ipython",
    "version": 3
   },
   "file_extension": ".py",
   "mimetype": "text/x-python",
   "name": "python",
   "nbconvert_exporter": "python",
   "pygments_lexer": "ipython3",
   "version": "3.7.4"
  }
 },
 "nbformat": 4,
 "nbformat_minor": 2
}
