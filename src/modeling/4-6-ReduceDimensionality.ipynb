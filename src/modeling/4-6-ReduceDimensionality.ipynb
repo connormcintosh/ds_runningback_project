{
 "cells": [
  {
   "cell_type": "code",
   "execution_count": 1,
   "metadata": {},
   "outputs": [],
   "source": [
    "import numpy as np\n",
    "import seaborn as sns\n",
    "import pandas as pd\n",
    "import matplotlib.pyplot as plt\n",
    "import winsound\n",
    "import random"
   ]
  },
  {
   "cell_type": "code",
   "execution_count": 2,
   "metadata": {},
   "outputs": [],
   "source": [
    "df= pd.read_csv(\"../../data/processed/oline_merge.csv\")\n",
    "df = df.drop('year',axis=1)\n",
    "df = df.drop('playername',axis=1)\n",
    "df = df.drop('team',axis=1)\n",
    "df = df.drop('basesalarycap (10^8)',axis=1)\n",
    "df = df.drop('cashspent (M)',axis=1)\n",
    "df = df.drop('caphit (M)',axis=1)\n",
    "df = df.drop('Unnamed: 0',axis=1)\n",
    "df = df.drop('Unnamed: 0.1',axis=1)\n",
    "df = df.drop('catchpercent',axis=1)\n",
    "df = df.drop('draft_yr',axis=1)"
   ]
  },
  {
   "cell_type": "code",
   "execution_count": 3,
   "metadata": {},
   "outputs": [
    {
     "data": {
      "text/plain": [
       "Index(['age', 'draft_pos', 'attempts', 'yards_run', 'tds_run', 'longgain_run',\n",
       "       'yardsperatt', 'yardspergame_run', 'Percenthit (%)', 'g', 'gs', 'tgt',\n",
       "       'rec', 'yards_rec', 'yardsperrec', 'tds_rec', 'firstdowns',\n",
       "       'longgain_rec', 'yardspertarget', 'recpergame', 'yardspergame_rec',\n",
       "       'fumbles', 'team_adjusted_line_yards', 'team_running_back_yards',\n",
       "       'team_stuffed_rate'],\n",
       "      dtype='object')"
      ]
     },
     "execution_count": 3,
     "metadata": {},
     "output_type": "execute_result"
    }
   ],
   "source": [
    "df.columns"
   ]
  },
  {
   "cell_type": "code",
   "execution_count": 4,
   "metadata": {},
   "outputs": [
    {
     "data": {
      "text/plain": [
       "<matplotlib.image.AxesImage at 0x18e4b3fff08>"
      ]
     },
     "execution_count": 4,
     "metadata": {},
     "output_type": "execute_result"
    },
    {
     "data": {
      "image/png": "[encoded data removed]",
      "text/plain": [
       "<Figure size 288x288 with 1 Axes>"
      ]
     },
     "metadata": {
      "needs_background": "light"
     },
     "output_type": "display_data"
    }
   ],
   "source": [
    "plt.matshow(df.corr())"
   ]
  },
  {
   "cell_type": "code",
   "execution_count": 5,
   "metadata": {},
   "outputs": [],
   "source": [
    "df = df.drop('yardspergame_run',axis=1)\n",
    "df = df.drop('yardsperatt',axis=1)\n",
    "df = df.drop('yardspertarget',axis=1)\n",
    "df = df.drop('yardsperrec',axis=1)\n",
    "df = df.drop('recpergame',axis=1)\n",
    "df = df.drop('yardspergame_rec',axis=1)\n"
   ]
  },
  {
   "cell_type": "code",
   "execution_count": 6,
   "metadata": {},
   "outputs": [
    {
     "data": {
      "text/plain": [
       "19"
      ]
     },
     "execution_count": 6,
     "metadata": {},
     "output_type": "execute_result"
    }
   ],
   "source": [
    "len(df.columns)"
   ]
  },
  {
   "cell_type": "code",
   "execution_count": 7,
   "metadata": {},
   "outputs": [],
   "source": [
    "from sklearn.preprocessing import MinMaxScaler\n",
    "from sklearn.preprocessing import StandardScaler\n",
    "from sklearn.model_selection import train_test_split\n",
    "import tensorflow as tf\n",
    "from tensorflow.keras.models import Sequential\n",
    "from tensorflow.keras.layers import Dense\n",
    "from sklearn.metrics import mean_absolute_error, mean_squared_error, explained_variance_score"
   ]
  },
  {
   "cell_type": "code",
   "execution_count": 8,
   "metadata": {},
   "outputs": [
    {
     "data": {
      "text/html": [
       "<div>\n",
       "<style scoped>\n",
       "    .dataframe tbody tr th:only-of-type {\n",
       "        vertical-align: middle;\n",
       "    }\n",
       "\n",
       "    .dataframe tbody tr th {\n",
       "        vertical-align: top;\n",
       "    }\n",
       "\n",
       "    .dataframe thead th {\n",
       "        text-align: right;\n",
       "    }\n",
       "</style>\n",
       "<table border=\"1\" class=\"dataframe\">\n",
       "  <thead>\n",
       "    <tr style=\"text-align: right;\">\n",
       "      <th></th>\n",
       "      <th>age</th>\n",
       "      <th>draft_pos</th>\n",
       "      <th>attempts</th>\n",
       "      <th>yards_run</th>\n",
       "      <th>tds_run</th>\n",
       "      <th>longgain_run</th>\n",
       "      <th>Percenthit (%)</th>\n",
       "      <th>g</th>\n",
       "      <th>gs</th>\n",
       "      <th>tgt</th>\n",
       "      <th>rec</th>\n",
       "      <th>yards_rec</th>\n",
       "      <th>tds_rec</th>\n",
       "      <th>firstdowns</th>\n",
       "      <th>longgain_rec</th>\n",
       "      <th>fumbles</th>\n",
       "      <th>team_adjusted_line_yards</th>\n",
       "      <th>team_running_back_yards</th>\n",
       "      <th>team_stuffed_rate</th>\n",
       "    </tr>\n",
       "  </thead>\n",
       "  <tbody>\n",
       "    <tr>\n",
       "      <td>0</td>\n",
       "      <td>26</td>\n",
       "      <td>182</td>\n",
       "      <td>75</td>\n",
       "      <td>389</td>\n",
       "      <td>5</td>\n",
       "      <td>75</td>\n",
       "      <td>1.100909</td>\n",
       "      <td>9</td>\n",
       "      <td>9</td>\n",
       "      <td>45</td>\n",
       "      <td>33</td>\n",
       "      <td>261</td>\n",
       "      <td>2</td>\n",
       "      <td>12</td>\n",
       "      <td>30</td>\n",
       "      <td>2</td>\n",
       "      <td>5</td>\n",
       "      <td>3</td>\n",
       "      <td>1</td>\n",
       "    </tr>\n",
       "    <tr>\n",
       "      <td>1</td>\n",
       "      <td>25</td>\n",
       "      <td>182</td>\n",
       "      <td>236</td>\n",
       "      <td>1084</td>\n",
       "      <td>16</td>\n",
       "      <td>56</td>\n",
       "      <td>0.369547</td>\n",
       "      <td>16</td>\n",
       "      <td>16</td>\n",
       "      <td>68</td>\n",
       "      <td>49</td>\n",
       "      <td>474</td>\n",
       "      <td>3</td>\n",
       "      <td>18</td>\n",
       "      <td>67</td>\n",
       "      <td>3</td>\n",
       "      <td>5</td>\n",
       "      <td>13</td>\n",
       "      <td>6</td>\n",
       "    </tr>\n",
       "    <tr>\n",
       "      <td>2</td>\n",
       "      <td>24</td>\n",
       "      <td>182</td>\n",
       "      <td>133</td>\n",
       "      <td>728</td>\n",
       "      <td>8</td>\n",
       "      <td>67</td>\n",
       "      <td>0.293098</td>\n",
       "      <td>12</td>\n",
       "      <td>8</td>\n",
       "      <td>35</td>\n",
       "      <td>26</td>\n",
       "      <td>206</td>\n",
       "      <td>1</td>\n",
       "      <td>12</td>\n",
       "      <td>24</td>\n",
       "      <td>1</td>\n",
       "      <td>7</td>\n",
       "      <td>6</td>\n",
       "      <td>12</td>\n",
       "    </tr>\n",
       "    <tr>\n",
       "      <td>3</td>\n",
       "      <td>23</td>\n",
       "      <td>7</td>\n",
       "      <td>81</td>\n",
       "      <td>448</td>\n",
       "      <td>4</td>\n",
       "      <td>46</td>\n",
       "      <td>0.308675</td>\n",
       "      <td>12</td>\n",
       "      <td>4</td>\n",
       "      <td>18</td>\n",
       "      <td>9</td>\n",
       "      <td>22</td>\n",
       "      <td>0</td>\n",
       "      <td>2</td>\n",
       "      <td>9</td>\n",
       "      <td>0</td>\n",
       "      <td>5</td>\n",
       "      <td>13</td>\n",
       "      <td>2</td>\n",
       "    </tr>\n",
       "    <tr>\n",
       "      <td>4</td>\n",
       "      <td>35</td>\n",
       "      <td>7</td>\n",
       "      <td>80</td>\n",
       "      <td>314</td>\n",
       "      <td>2</td>\n",
       "      <td>27</td>\n",
       "      <td>0.529768</td>\n",
       "      <td>11</td>\n",
       "      <td>8</td>\n",
       "      <td>16</td>\n",
       "      <td>11</td>\n",
       "      <td>78</td>\n",
       "      <td>0</td>\n",
       "      <td>3</td>\n",
       "      <td>18</td>\n",
       "      <td>0</td>\n",
       "      <td>19</td>\n",
       "      <td>22</td>\n",
       "      <td>18</td>\n",
       "    </tr>\n",
       "    <tr>\n",
       "      <td>...</td>\n",
       "      <td>...</td>\n",
       "      <td>...</td>\n",
       "      <td>...</td>\n",
       "      <td>...</td>\n",
       "      <td>...</td>\n",
       "      <td>...</td>\n",
       "      <td>...</td>\n",
       "      <td>...</td>\n",
       "      <td>...</td>\n",
       "      <td>...</td>\n",
       "      <td>...</td>\n",
       "      <td>...</td>\n",
       "      <td>...</td>\n",
       "      <td>...</td>\n",
       "      <td>...</td>\n",
       "      <td>...</td>\n",
       "      <td>...</td>\n",
       "      <td>...</td>\n",
       "      <td>...</td>\n",
       "    </tr>\n",
       "    <tr>\n",
       "      <td>583</td>\n",
       "      <td>22</td>\n",
       "      <td>153</td>\n",
       "      <td>77</td>\n",
       "      <td>312</td>\n",
       "      <td>1</td>\n",
       "      <td>19</td>\n",
       "      <td>0.329198</td>\n",
       "      <td>13</td>\n",
       "      <td>3</td>\n",
       "      <td>13</td>\n",
       "      <td>6</td>\n",
       "      <td>55</td>\n",
       "      <td>0</td>\n",
       "      <td>1</td>\n",
       "      <td>18</td>\n",
       "      <td>1</td>\n",
       "      <td>13</td>\n",
       "      <td>13</td>\n",
       "      <td>12</td>\n",
       "    </tr>\n",
       "    <tr>\n",
       "      <td>584</td>\n",
       "      <td>32</td>\n",
       "      <td>23</td>\n",
       "      <td>138</td>\n",
       "      <td>377</td>\n",
       "      <td>2</td>\n",
       "      <td>16</td>\n",
       "      <td>0.398135</td>\n",
       "      <td>12</td>\n",
       "      <td>6</td>\n",
       "      <td>11</td>\n",
       "      <td>8</td>\n",
       "      <td>20</td>\n",
       "      <td>0</td>\n",
       "      <td>0</td>\n",
       "      <td>9</td>\n",
       "      <td>1</td>\n",
       "      <td>18</td>\n",
       "      <td>29</td>\n",
       "      <td>18</td>\n",
       "    </tr>\n",
       "    <tr>\n",
       "      <td>585</td>\n",
       "      <td>24</td>\n",
       "      <td>160</td>\n",
       "      <td>31</td>\n",
       "      <td>89</td>\n",
       "      <td>1</td>\n",
       "      <td>18</td>\n",
       "      <td>0.408291</td>\n",
       "      <td>8</td>\n",
       "      <td>0</td>\n",
       "      <td>12</td>\n",
       "      <td>9</td>\n",
       "      <td>65</td>\n",
       "      <td>0</td>\n",
       "      <td>4</td>\n",
       "      <td>16</td>\n",
       "      <td>0</td>\n",
       "      <td>26</td>\n",
       "      <td>15</td>\n",
       "      <td>26</td>\n",
       "    </tr>\n",
       "    <tr>\n",
       "      <td>586</td>\n",
       "      <td>23</td>\n",
       "      <td>160</td>\n",
       "      <td>76</td>\n",
       "      <td>293</td>\n",
       "      <td>1</td>\n",
       "      <td>16</td>\n",
       "      <td>0.405357</td>\n",
       "      <td>13</td>\n",
       "      <td>5</td>\n",
       "      <td>23</td>\n",
       "      <td>18</td>\n",
       "      <td>152</td>\n",
       "      <td>0</td>\n",
       "      <td>9</td>\n",
       "      <td>17</td>\n",
       "      <td>2</td>\n",
       "      <td>18</td>\n",
       "      <td>17</td>\n",
       "      <td>29</td>\n",
       "    </tr>\n",
       "    <tr>\n",
       "      <td>587</td>\n",
       "      <td>22</td>\n",
       "      <td>160</td>\n",
       "      <td>250</td>\n",
       "      <td>973</td>\n",
       "      <td>7</td>\n",
       "      <td>40</td>\n",
       "      <td>0.365142</td>\n",
       "      <td>14</td>\n",
       "      <td>12</td>\n",
       "      <td>35</td>\n",
       "      <td>26</td>\n",
       "      <td>141</td>\n",
       "      <td>1</td>\n",
       "      <td>8</td>\n",
       "      <td>25</td>\n",
       "      <td>1</td>\n",
       "      <td>12</td>\n",
       "      <td>21</td>\n",
       "      <td>13</td>\n",
       "    </tr>\n",
       "  </tbody>\n",
       "</table>\n",
       "<p>588 rows × 19 columns</p>\n",
       "</div>"
      ],
      "text/plain": [
       "     age  draft_pos  attempts  yards_run  tds_run  longgain_run  \\\n",
       "0     26        182        75        389        5            75   \n",
       "1     25        182       236       1084       16            56   \n",
       "2     24        182       133        728        8            67   \n",
       "3     23          7        81        448        4            46   \n",
       "4     35          7        80        314        2            27   \n",
       "..   ...        ...       ...        ...      ...           ...   \n",
       "583   22        153        77        312        1            19   \n",
       "584   32         23       138        377        2            16   \n",
       "585   24        160        31         89        1            18   \n",
       "586   23        160        76        293        1            16   \n",
       "587   22        160       250        973        7            40   \n",
       "\n",
       "     Percenthit (%)   g  gs  tgt  rec  yards_rec  tds_rec  firstdowns  \\\n",
       "0          1.100909   9   9   45   33        261        2          12   \n",
       "1          0.369547  16  16   68   49        474        3          18   \n",
       "2          0.293098  12   8   35   26        206        1          12   \n",
       "3          0.308675  12   4   18    9         22        0           2   \n",
       "4          0.529768  11   8   16   11         78        0           3   \n",
       "..              ...  ..  ..  ...  ...        ...      ...         ...   \n",
       "583        0.329198  13   3   13    6         55        0           1   \n",
       "584        0.398135  12   6   11    8         20        0           0   \n",
       "585        0.408291   8   0   12    9         65        0           4   \n",
       "586        0.405357  13   5   23   18        152        0           9   \n",
       "587        0.365142  14  12   35   26        141        1           8   \n",
       "\n",
       "     longgain_rec  fumbles  team_adjusted_line_yards  team_running_back_yards  \\\n",
       "0              30        2                         5                        3   \n",
       "1              67        3                         5                       13   \n",
       "2              24        1                         7                        6   \n",
       "3               9        0                         5                       13   \n",
       "4              18        0                        19                       22   \n",
       "..            ...      ...                       ...                      ...   \n",
       "583            18        1                        13                       13   \n",
       "584             9        1                        18                       29   \n",
       "585            16        0                        26                       15   \n",
       "586            17        2                        18                       17   \n",
       "587            25        1                        12                       21   \n",
       "\n",
       "     team_stuffed_rate  \n",
       "0                    1  \n",
       "1                    6  \n",
       "2                   12  \n",
       "3                    2  \n",
       "4                   18  \n",
       "..                 ...  \n",
       "583                 12  \n",
       "584                 18  \n",
       "585                 26  \n",
       "586                 29  \n",
       "587                 13  \n",
       "\n",
       "[588 rows x 19 columns]"
      ]
     },
     "execution_count": 8,
     "metadata": {},
     "output_type": "execute_result"
    }
   ],
   "source": [
    "df"
   ]
  },
  {
   "cell_type": "code",
   "execution_count": 9,
   "metadata": {},
   "outputs": [],
   "source": [
    "X = df.drop('Percenthit (%)',axis=1).values\n",
    "y = df['Percenthit (%)'].values\n",
    "X_train, X_test, y_train, y_test = train_test_split(X, y, test_size=0.2, random_state=101)\n",
    "scaler = MinMaxScaler()\n",
    "X_train = scaler.fit_transform(X_train)\n",
    "X_test = scaler.fit_transform(X_test)"
   ]
  },
  {
   "cell_type": "code",
   "execution_count": null,
   "metadata": {},
   "outputs": [],
   "source": []
  },
  {
   "cell_type": "code",
   "execution_count": 10,
   "metadata": {},
   "outputs": [],
   "source": [
    "# esv = []\n",
    "# # while True: \n",
    "# for i in range(5):\n",
    "    \n",
    "#     X_train.shape\n",
    "#     model = Sequential()\n",
    "\n",
    "#     model.add(Dense(18, activation=\"relu\"))\n",
    "#     model.add(Dense(random.randint(5,6), activation=\"relu\"))\n",
    "#     model.add(Dense(random.randint(5,6), activation=\"relu\"))\n",
    "#     model.add(Dense(random.randint(5,6), activation=\"relu\"))\n",
    "    \n",
    "\n",
    "#     model.add(Dense(1))\n",
    "\n",
    "#     model.compile(optimizer=\"adam\", loss=\"mse\")\n",
    "#     model.fit(x=X_train, y= y_train, validation_data=(X_test,y_test),batch_size=32,epochs=65)\n",
    "    \n",
    "#     predictions = model.predict(X_test)\n",
    "#     esv.append(explained_variance_score(y_test,predictions))\n",
    "#     print('\\n'+'\\n'+\"ESV: \" + str(explained_variance_score(y_test,predictions))+ '\\n'+'\\n'+'\\n')\n",
    "#     if(explained_variance_score(y_test,predictions) > .625):\n",
    "#         winsound.Beep(1047, 750)\n",
    "#         winsound.Beep(1047, 750)\n",
    "#         break\n",
    "# #     winsound.Beep(1397,250)\n",
    "\n",
    "# esv.sort(reverse=True)\n",
    "# print(\"\\n\")\n",
    "# print(\"MAX: \" + str(max(esv)))\n",
    "# print(\"\\n\")\n",
    "# print(esv)\n",
    "# winsound.Beep(784, 750)"
   ]
  },
  {
   "cell_type": "code",
   "execution_count": null,
   "metadata": {},
   "outputs": [],
   "source": []
  },
  {
   "cell_type": "code",
   "execution_count": 11,
   "metadata": {},
   "outputs": [],
   "source": [
    "#model.save('./savedmodels/April6-63dnn')"
   ]
  },
  {
   "cell_type": "code",
   "execution_count": 12,
   "metadata": {},
   "outputs": [
    {
     "name": "stdout",
     "output_type": "stream",
     "text": [
      "MSE:  1.27029617255551\n",
      "RMSE:  1.1270741646207272\n",
      "MAE:  0.7869059068951773\n",
      "ESV:  0.6320856007472058\n"
     ]
    }
   ],
   "source": [
    "loaded_model = tf.keras.models.load_model('./savedmodels/April13-65dnn')\n",
    "predictions = loaded_model.predict(X_test)\n",
    "\n",
    "print(\"MSE: \",mean_squared_error(y_test,predictions) )\n",
    "print(\"RMSE: \",np.sqrt(mean_squared_error(y_test,predictions)) )\n",
    "print(\"MAE: \",mean_absolute_error(y_test,predictions) )\n",
    "print(\"ESV: \", explained_variance_score(y_test, predictions))"
   ]
  },
  {
   "cell_type": "code",
   "execution_count": 13,
   "metadata": {},
   "outputs": [
    {
     "data": {
      "text/plain": [
       "Index(['age', 'draft_pos', 'attempts', 'yards_run', 'tds_run', 'longgain_run',\n",
       "       'Percenthit (%)', 'g', 'gs', 'tgt', 'rec', 'yards_rec', 'tds_rec',\n",
       "       'firstdowns', 'longgain_rec', 'fumbles', 'team_adjusted_line_yards',\n",
       "       'team_running_back_yards', 'team_stuffed_rate'],\n",
       "      dtype='object')"
      ]
     },
     "execution_count": 13,
     "metadata": {},
     "output_type": "execute_result"
    }
   ],
   "source": [
    "df.columns"
   ]
  },
  {
   "cell_type": "code",
   "execution_count": 14,
   "metadata": {},
   "outputs": [
    {
     "name": "stdout",
     "output_type": "stream",
     "text": [
      "[[2.26654578e-02]\n",
      " [1.64097915e-01]\n",
      " [1.81323663e-01]\n",
      " [1.00000000e+00]\n",
      " [7.25294651e-03]\n",
      " [6.89029918e-02]\n",
      " [1.17860381e-02]\n",
      " [1.17860381e-02]\n",
      " [5.62103354e-02]\n",
      " [4.17044424e-02]\n",
      " [3.20942883e-01]\n",
      " [9.06618314e-04]\n",
      " [1.26926564e-02]\n",
      " [2.62919311e-02]\n",
      " [9.06618314e-04]\n",
      " [3.62647325e-03]\n",
      " [1.81323663e-03]\n",
      " [0.00000000e+00]]\n",
      "[[0.61635125]]\n"
     ]
    }
   ],
   "source": [
    "Aaron_Jones2020 = np.array([26,182,201,1104,9,77,14,14,63,47,355,2,15,30,2,5,3,1])\n",
    "Aaron_Jones2020.shape\n",
    "X_transformed = scaler.fit_transform(Aaron_Jones2020[:, np.newaxis])\n",
    "print(X_transformed)\n",
    "print(loaded_model.predict(X_transformed.T))"
   ]
  },
  {
   "cell_type": "markdown",
   "metadata": {},
   "source": []
  },
  {
   "cell_type": "code",
   "execution_count": 15,
   "metadata": {},
   "outputs": [
    {
     "name": "stdout",
     "output_type": "stream",
     "text": [
      "[[2.26654578e-02 1.64097915e-01 1.81323663e-01 1.00000000e+00\n",
      "  7.25294651e-03 6.89029918e-02 1.17860381e-02 1.17860381e-02\n",
      "  5.62103354e-02 4.17044424e-02 3.20942883e-01 9.06618314e-04\n",
      "  1.26926564e-02 2.62919311e-02 9.06618314e-04 3.62647325e-03\n",
      "  1.81323663e-03 0.00000000e+00]] \n",
      "\n",
      "[[0.61635125]]\n"
     ]
    }
   ],
   "source": [
    "Aaron_Jones2020 = np.array([26,182,201,1104,9,77,14,14,63,47,355,2,15,30,2,5,3,1])\n",
    "Aaron_Jones2020.shape\n",
    "X_transformed = scaler.transform(Aaron_Jones2020.reshape(1, -1))\n",
    "print(X_transformed, '\\n')\n",
    "print(loaded_model.predict(X_transformed))"
   ]
  },
  {
   "cell_type": "code",
   "execution_count": 16,
   "metadata": {},
   "outputs": [],
   "source": [
    "#https://stackoverflow.com/questions/46555820/sklearn-standardscaler-returns-all-zeros"
   ]
  },
  {
   "cell_type": "code",
   "execution_count": null,
   "metadata": {},
   "outputs": [],
   "source": []
  },
  {
   "cell_type": "code",
   "execution_count": null,
   "metadata": {},
   "outputs": [],
   "source": [
    "KenyanDrake_2020 = np.array([27,73,239,955,10,69,15,13,31,25,137,0,5,18,3,30,19,25])\n",
    "KenyanDrake_2020.shape\n",
    "X_transformed = scaler.transform(KenyanDrake_2020.reshape(1, -1))\n",
    "print(X_transformed, '\\n')\n",
    "print(loaded_model.predict(X_transformed))"
   ]
  },
  {
   "cell_type": "code",
   "execution_count": null,
   "metadata": {},
   "outputs": [],
   "source": []
  },
  {
   "cell_type": "code",
   "execution_count": 18,
   "metadata": {},
   "outputs": [
    {
     "name": "stdout",
     "output_type": "stream",
     "text": [
      "Aaron Jones\n",
      "[  27  182  201 1104    9   77   14   14   63   47  355    2   15   30\n",
      "    2    5    3    1]\n",
      "0.61549973\n",
      "2.369\n",
      "[['Aaron Jones' '0.61549973' '2.369']]\n",
      "\n",
      "Kenyan Drake\n",
      "[ 27  73 239 955  10  69  15  13  31  25 137   0   5  18   3  30  19  25]\n",
      "0.7319136\n",
      "1.5919999999999999\n",
      "[['Kenyan Drake' '0.7319136' '1.592']]\n",
      "\n",
      "Gus Edwards\n",
      "[ 26 257 144 723   6  36  16   6  13   9 129   0   4  34   1   8   1   5]\n",
      "0.6797882\n",
      "1.796\n",
      "[['Gus Edwards' '0.6797882' '1.796']]\n",
      "\n",
      "James Conner\n",
      "[ 26 205 169 721   6  59  13  11  43  35 215   0  10  18   2  32  32  28]\n",
      "0.7090756\n",
      "0.9288\n",
      "[['James Conner' '0.7090756' '0.929']]\n",
      "\n",
      "Chris Carson\n",
      "[ 27 249 141 681   5  29  12  12  46  37 287   4  14  29   1  10  15  17]\n",
      "0.68914676\n",
      "1.327\n",
      "[['Chris Carson' '0.68914676' '1.327']]\n",
      "\n",
      "Jamaal Williams\n",
      "[ 26 134 119 505   2  25  14   3  35  31 236   1  11  29   0   5   3   1]\n",
      "0.86395913\n",
      "0.8625265390000001\n",
      "[['Jamaal Williams' '0.86395913' '0.863']]\n",
      "\n",
      "Phillip Lindsay\n",
      "[ 27 257 118 502   1  55  11   8  14   7  28   0   1  11   0  28  12  32]\n",
      "0.6962655\n",
      "1.63\n",
      "[['Phillip Lindsay' '0.6962655' '1.63']]\n",
      "\n"
     ]
    },
    {
     "data": {
      "text/html": [
       "<div>\n",
       "<style scoped>\n",
       "    .dataframe tbody tr th:only-of-type {\n",
       "        vertical-align: middle;\n",
       "    }\n",
       "\n",
       "    .dataframe tbody tr th {\n",
       "        vertical-align: top;\n",
       "    }\n",
       "\n",
       "    .dataframe thead th {\n",
       "        text-align: right;\n",
       "    }\n",
       "</style>\n",
       "<table border=\"1\" class=\"dataframe\">\n",
       "  <thead>\n",
       "    <tr style=\"text-align: right;\">\n",
       "      <th></th>\n",
       "      <th>name</th>\n",
       "      <th>predicted</th>\n",
       "      <th>real</th>\n",
       "    </tr>\n",
       "  </thead>\n",
       "  <tbody>\n",
       "    <tr>\n",
       "      <td>0</td>\n",
       "      <td>Aaron Jones</td>\n",
       "      <td>0.61549973</td>\n",
       "      <td>2.369</td>\n",
       "    </tr>\n",
       "    <tr>\n",
       "      <td>0</td>\n",
       "      <td>Kenyan Drake</td>\n",
       "      <td>0.7319136</td>\n",
       "      <td>1.592</td>\n",
       "    </tr>\n",
       "    <tr>\n",
       "      <td>0</td>\n",
       "      <td>Gus Edwards</td>\n",
       "      <td>0.6797882</td>\n",
       "      <td>1.796</td>\n",
       "    </tr>\n",
       "    <tr>\n",
       "      <td>0</td>\n",
       "      <td>James Conner</td>\n",
       "      <td>0.7090756</td>\n",
       "      <td>0.929</td>\n",
       "    </tr>\n",
       "    <tr>\n",
       "      <td>0</td>\n",
       "      <td>Chris Carson</td>\n",
       "      <td>0.68914676</td>\n",
       "      <td>1.327</td>\n",
       "    </tr>\n",
       "    <tr>\n",
       "      <td>0</td>\n",
       "      <td>Jamaal Williams</td>\n",
       "      <td>0.86395913</td>\n",
       "      <td>0.863</td>\n",
       "    </tr>\n",
       "    <tr>\n",
       "      <td>0</td>\n",
       "      <td>Phillip Lindsay</td>\n",
       "      <td>0.6962655</td>\n",
       "      <td>1.63</td>\n",
       "    </tr>\n",
       "  </tbody>\n",
       "</table>\n",
       "</div>"
      ],
      "text/plain": [
       "              name   predicted   real\n",
       "0      Aaron Jones  0.61549973  2.369\n",
       "0     Kenyan Drake   0.7319136  1.592\n",
       "0      Gus Edwards   0.6797882  1.796\n",
       "0     James Conner   0.7090756  0.929\n",
       "0     Chris Carson  0.68914676  1.327\n",
       "0  Jamaal Williams  0.86395913  0.863\n",
       "0  Phillip Lindsay   0.6962655   1.63"
      ]
     },
     "execution_count": 18,
     "metadata": {},
     "output_type": "execute_result"
    }
   ],
   "source": [
    "rbs =pd.read_csv(\"../../data/rbs_to_predict.csv\")\n",
    "names = rbs['playername'].values\n",
    "real_y = rbs['2021capperc'].values\n",
    "rbs = rbs.drop('tm',axis=1)\n",
    "rbs = rbs.drop('playername',axis=1)\n",
    "rbs= rbs.drop('2021capperc',axis=1)\n",
    "\n",
    "real_compare= pd.DataFrame([],columns=['name', 'predicted','real'])\n",
    "realpreds = []\n",
    "\n",
    "for i in range(len(names)):\n",
    "    print(names[i])\n",
    "    print(rbs.iloc[i].to_numpy())\n",
    "    predi = loaded_model.predict(scaler.transform(rbs.iloc[i].to_numpy().reshape(1, -1)))\n",
    "    realpreds.append(predi[0][0])\n",
    "    print(predi[0][0])\n",
    "    print(real_y[i])\n",
    "    listi = [['',0,0]]\n",
    "    listi[0][0] = names[i]\n",
    "    listi[0][1] = predi[0][0]\n",
    "    listi[0][2] = real_y[i].round(decimals=3)\n",
    "    listi = np.array(listi)\n",
    "    print(listi)\n",
    "    dfi = pd.DataFrame(listi,columns=['name', 'predicted','real'])\n",
    "    real_compare = real_compare.append(dfi)\n",
    "    \n",
    "    print()\n",
    "\n",
    "real_compare"
   ]
  },
  {
   "cell_type": "code",
   "execution_count": 19,
   "metadata": {},
   "outputs": [
    {
     "name": "stdout",
     "output_type": "stream",
     "text": [
      "MSE:  1.27029617255551\n",
      "RMSE:  1.1270741646207272\n",
      "MAE:  0.7869059068951773\n",
      "ESV:  0.6320856007472058\n"
     ]
    },
    {
     "data": {
      "text/plain": [
       "[<matplotlib.lines.Line2D at 0x18e551f3ec8>]"
      ]
     },
     "execution_count": 19,
     "metadata": {},
     "output_type": "execute_result"
    },
    {
     "data": {
      "image/png": "[encoded data removed]",
      "text/plain": [
       "<Figure size 432x288 with 1 Axes>"
      ]
     },
     "metadata": {
      "needs_background": "light"
     },
     "output_type": "display_data"
    }
   ],
   "source": [
    "predictions = loaded_model.predict(X_test)\n",
    "\n",
    "print(\"MSE: \",mean_squared_error(y_test,predictions) )\n",
    "print(\"RMSE: \",np.sqrt(mean_squared_error(y_test,predictions)) )\n",
    "print(\"MAE: \",mean_absolute_error(y_test,predictions) )\n",
    "print(\"ESV: \", explained_variance_score(y_test, predictions))\n",
    "\n",
    "\n",
    "X_scl = scaler.fit_transform(X)\n",
    "predictions = loaded_model.predict(X_scl)\n",
    "plt.scatter(predictions,y)\n",
    "\n",
    "plt.ylabel(\"Actual Values (%)\")\n",
    "plt.xlabel(\"Predicted Values (%)\")\n",
    "plt.title('Sequential DNN (Rookies Included): Predicted vs Actual Cap %')\n",
    "plt.plot(np.linspace(0,7,100),np.linspace(0,10,100), 'r-')\n"
   ]
  },
  {
   "cell_type": "code",
   "execution_count": 20,
   "metadata": {},
   "outputs": [
    {
     "name": "stdout",
     "output_type": "stream",
     "text": [
      "Model: \"sequential_158\"\n",
      "_________________________________________________________________\n",
      "Layer (type)                 Output Shape              Param #   \n",
      "=================================================================\n",
      "dense_790 (Dense)            (None, 18)                342       \n",
      "_________________________________________________________________\n",
      "dense_791 (Dense)            (None, 6)                 114       \n",
      "_________________________________________________________________\n",
      "dense_792 (Dense)            (None, 6)                 42        \n",
      "_________________________________________________________________\n",
      "dense_793 (Dense)            (None, 6)                 42        \n",
      "_________________________________________________________________\n",
      "dense_794 (Dense)            (None, 1)                 7         \n",
      "=================================================================\n",
      "Total params: 547\n",
      "Trainable params: 547\n",
      "Non-trainable params: 0\n",
      "_________________________________________________________________\n"
     ]
    }
   ],
   "source": [
    "loaded_model.summary()"
   ]
  },
  {
   "cell_type": "code",
   "execution_count": 21,
   "metadata": {},
   "outputs": [
    {
     "name": "stdout",
     "output_type": "stream",
     "text": [
      "MAE: 1.0584441930344453\n",
      "MSE: 2.329038511963138\n",
      "RMSE: 1.5261187738715285\n",
      "ESV:  0.40276365697830974\n"
     ]
    },
    {
     "data": {
      "text/plain": [
       "[<matplotlib.lines.Line2D at 0x18e56cc2c08>]"
      ]
     },
     "execution_count": 21,
     "metadata": {},
     "output_type": "execute_result"
    },
    {
     "data": {
      "image/png": "[encoded data removed]",
      "text/plain": [
       "<Figure size 432x288 with 1 Axes>"
      ]
     },
     "metadata": {
      "needs_background": "light"
     },
     "output_type": "display_data"
    }
   ],
   "source": [
    "from sklearn import metrics\n",
    "from sklearn.linear_model import LinearRegression\n",
    "lm = LinearRegression()\n",
    "lm.fit(X_train,y_train)\n",
    "X_scl = scaler.fit_transform(X)\n",
    "predictions = lm.predict(X_scl)\n",
    "plt.scatter(predictions,y)\n",
    "plt.ylabel(\"Actual Values (%)\")\n",
    "plt.xlabel(\"Predicted Values (%)\")\n",
    "plt.title(\"Linear Regression: Predicted vs Actual Cap %\")\n",
    "print('MAE:', metrics.mean_absolute_error(y, predictions))\n",
    "print('MSE:', metrics.mean_squared_error(y, predictions))\n",
    "print('RMSE:', np.sqrt(metrics.mean_squared_error(y, predictions)))\n",
    "print(\"ESV: \", explained_variance_score(y, predictions))\n",
    "plt.plot(np.linspace(0,8,100),np.linspace(0,10,100), 'r-')\n",
    "\n",
    "\n"
   ]
  },
  {
   "cell_type": "code",
   "execution_count": null,
   "metadata": {},
   "outputs": [],
   "source": []
  }
 ],
 "metadata": {
  "kernelspec": {
   "display_name": "Python 3",
   "language": "python",
   "name": "python3"
  },
  "language_info": {
   "codemirror_mode": {
    "name": "ipython",
    "version": 3
   },
   "file_extension": ".py",
   "mimetype": "text/x-python",
   "name": "python",
   "nbconvert_exporter": "python",
   "pygments_lexer": "ipython3",
   "version": "3.7.4"
  }
 },
 "nbformat": 4,
 "nbformat_minor": 2
}
