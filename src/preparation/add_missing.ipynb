{
 "cells": [
  {
   "cell_type": "markdown",
   "metadata": {},
   "source": [
    "# Add in the players that didn't have any positions listed\n",
    "\n",
    "Read in files:"
   ]
  },
  {
   "cell_type": "code",
   "execution_count": 2,
   "metadata": {},
   "outputs": [],
   "source": [
    "import pandas as pd\n",
    "\n",
    "listed_players = pd.read_csv(\"../../data/raw/listed_players.csv\")\n",
    "unlisted_players = pd.read_csv(\"../../data/raw/unlisted_players_shortened.csv\")\n",
    "# unlisted_players = pd.read_csv(\"../../data/raw/unlisted_players.csv\")\n",
    "original = pd.read_csv(\"../../data/raw/Test2.csv\")"
   ]
  },
  {
   "cell_type": "markdown",
   "metadata": {},
   "source": [
    "Get only the running backs:"
   ]
  },
  {
   "cell_type": "code",
   "execution_count": 3,
   "metadata": {},
   "outputs": [],
   "source": [
    "unlisted_rbs = unlisted_players[[str(p).lower() == 'rb' for p in unlisted_players['pos']]]"
   ]
  },
  {
   "cell_type": "markdown",
   "metadata": {},
   "source": [
    "We're adding this many additional players:"
   ]
  },
  {
   "cell_type": "code",
   "execution_count": 4,
   "metadata": {},
   "outputs": [
    {
     "data": {
      "text/plain": [
       "0"
      ]
     },
     "execution_count": 4,
     "metadata": {},
     "output_type": "execute_result"
    }
   ],
   "source": [
    "len(unlisted_rbs)"
   ]
  },
  {
   "cell_type": "markdown",
   "metadata": {},
   "source": [
    "Find those running backs in the original dataset:"
   ]
  },
  {
   "cell_type": "code",
   "execution_count": 5,
   "metadata": {},
   "outputs": [],
   "source": [
    "indexes = [False] * len(original)\n",
    "\n",
    "for i, player in enumerate(original['playerid']):\n",
    "    if player in list(unlisted_rbs['playerid']):\n",
    "        indexes[i] = True\n",
    "\n",
    "new_rbs = original[indexes]"
   ]
  },
  {
   "cell_type": "markdown",
   "metadata": {},
   "source": [
    "Combine the unlisted rb's with ones listed as rb's and drop the position column:"
   ]
  },
  {
   "cell_type": "code",
   "execution_count": 9,
   "metadata": {},
   "outputs": [],
   "source": [
    "# keep column position:\n",
    "combined = listed_players.append(new_rbs)[original.columns.tolist()]\n",
    "\n",
    "# since all rb's drop that column:\n",
    "combined = combined.drop(columns=['pos'])"
   ]
  },
  {
   "cell_type": "markdown",
   "metadata": {},
   "source": [
    "Final data set:"
   ]
  },
  {
   "cell_type": "code",
   "execution_count": 7,
   "metadata": {},
   "outputs": [
    {
     "data": {
      "text/html": [
       "<div>\n",
       "<style scoped>\n",
       "    .dataframe tbody tr th:only-of-type {\n",
       "        vertical-align: middle;\n",
       "    }\n",
       "\n",
       "    .dataframe tbody tr th {\n",
       "        vertical-align: top;\n",
       "    }\n",
       "\n",
       "    .dataframe thead th {\n",
       "        text-align: right;\n",
       "    }\n",
       "</style>\n",
       "<table border=\"1\" class=\"dataframe\">\n",
       "  <thead>\n",
       "    <tr style=\"text-align: right;\">\n",
       "      <th></th>\n",
       "      <th>playerid</th>\n",
       "      <th>year</th>\n",
       "      <th>playername</th>\n",
       "      <th>team</th>\n",
       "      <th>age</th>\n",
       "      <th>g</th>\n",
       "      <th>gs</th>\n",
       "      <th>attempts</th>\n",
       "      <th>yards</th>\n",
       "      <th>tds</th>\n",
       "      <th>longgain</th>\n",
       "      <th>yardsperatt</th>\n",
       "      <th>yardspergame</th>\n",
       "      <th>fumbles</th>\n",
       "    </tr>\n",
       "  </thead>\n",
       "  <tbody>\n",
       "    <tr>\n",
       "      <th>0</th>\n",
       "      <td>AAbduAm00</td>\n",
       "      <td>2020</td>\n",
       "      <td>Ameer Abdullah</td>\n",
       "      <td>MIN</td>\n",
       "      <td>27</td>\n",
       "      <td>6</td>\n",
       "      <td>0</td>\n",
       "      <td>2</td>\n",
       "      <td>7</td>\n",
       "      <td>0</td>\n",
       "      <td>4</td>\n",
       "      <td>3.5</td>\n",
       "      <td>1.2</td>\n",
       "      <td>0</td>\n",
       "    </tr>\n",
       "    <tr>\n",
       "      <th>1</th>\n",
       "      <td>AAbduAm00</td>\n",
       "      <td>2019</td>\n",
       "      <td>Ameer Abdullah</td>\n",
       "      <td>MIN</td>\n",
       "      <td>26</td>\n",
       "      <td>16</td>\n",
       "      <td>0</td>\n",
       "      <td>23</td>\n",
       "      <td>115</td>\n",
       "      <td>0</td>\n",
       "      <td>15</td>\n",
       "      <td>5.0</td>\n",
       "      <td>7.2</td>\n",
       "      <td>1</td>\n",
       "    </tr>\n",
       "    <tr>\n",
       "      <th>2</th>\n",
       "      <td>AAbduAm00</td>\n",
       "      <td>2017</td>\n",
       "      <td>Ameer Abdullah</td>\n",
       "      <td>DET</td>\n",
       "      <td>24</td>\n",
       "      <td>14</td>\n",
       "      <td>11</td>\n",
       "      <td>165</td>\n",
       "      <td>552</td>\n",
       "      <td>4</td>\n",
       "      <td>34</td>\n",
       "      <td>3.3</td>\n",
       "      <td>39.4</td>\n",
       "      <td>2</td>\n",
       "    </tr>\n",
       "    <tr>\n",
       "      <th>3</th>\n",
       "      <td>AAbduAm00</td>\n",
       "      <td>2016</td>\n",
       "      <td>Ameer Abdullah</td>\n",
       "      <td>DET</td>\n",
       "      <td>23</td>\n",
       "      <td>2</td>\n",
       "      <td>2</td>\n",
       "      <td>18</td>\n",
       "      <td>101</td>\n",
       "      <td>0</td>\n",
       "      <td>24</td>\n",
       "      <td>5.6</td>\n",
       "      <td>50.5</td>\n",
       "      <td>0</td>\n",
       "    </tr>\n",
       "    <tr>\n",
       "      <th>4</th>\n",
       "      <td>AAbduAm00</td>\n",
       "      <td>2015</td>\n",
       "      <td>Ameer Abdullah</td>\n",
       "      <td>DET</td>\n",
       "      <td>22</td>\n",
       "      <td>16</td>\n",
       "      <td>9</td>\n",
       "      <td>143</td>\n",
       "      <td>597</td>\n",
       "      <td>2</td>\n",
       "      <td>36</td>\n",
       "      <td>4.2</td>\n",
       "      <td>37.3</td>\n",
       "      <td>5</td>\n",
       "    </tr>\n",
       "  </tbody>\n",
       "</table>\n",
       "</div>"
      ],
      "text/plain": [
       "    playerid  year      playername team  age   g  gs  attempts  yards  tds  \\\n",
       "0  AAbduAm00  2020  Ameer Abdullah  MIN   27   6   0         2      7    0   \n",
       "1  AAbduAm00  2019  Ameer Abdullah  MIN   26  16   0        23    115    0   \n",
       "2  AAbduAm00  2017  Ameer Abdullah  DET   24  14  11       165    552    4   \n",
       "3  AAbduAm00  2016  Ameer Abdullah  DET   23   2   2        18    101    0   \n",
       "4  AAbduAm00  2015  Ameer Abdullah  DET   22  16   9       143    597    2   \n",
       "\n",
       "   longgain  yardsperatt  yardspergame  fumbles  \n",
       "0         4          3.5           1.2        0  \n",
       "1        15          5.0           7.2        1  \n",
       "2        34          3.3          39.4        2  \n",
       "3        24          5.6          50.5        0  \n",
       "4        36          4.2          37.3        5  "
      ]
     },
     "execution_count": 7,
     "metadata": {},
     "output_type": "execute_result"
    }
   ],
   "source": [
    "combined.head()"
   ]
  },
  {
   "cell_type": "markdown",
   "metadata": {},
   "source": [
    "Write to file:"
   ]
  },
  {
   "cell_type": "code",
   "execution_count": 8,
   "metadata": {},
   "outputs": [],
   "source": [
    "combined.to_csv(\"../../data/raw/running_backs.csv\")"
   ]
  }
 ],
 "metadata": {
  "kernelspec": {
   "display_name": "Python 3",
   "language": "python",
   "name": "python3"
  },
  "language_info": {
   "codemirror_mode": {
    "name": "ipython",
    "version": 3
   },
   "file_extension": ".py",
   "mimetype": "text/x-python",
   "name": "python",
   "nbconvert_exporter": "python",
   "pygments_lexer": "ipython3",
   "version": "3.7.4"
  }
 },
 "nbformat": 4,
 "nbformat_minor": 2
}
