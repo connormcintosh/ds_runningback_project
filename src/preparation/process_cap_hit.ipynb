{
 "cells": [
  {
   "cell_type": "code",
   "execution_count": null,
   "metadata": {},
   "outputs": [],
   "source": [
    "import pandas as pd\n",
    "import numpy as np"
   ]
  },
  {
   "cell_type": "code",
   "execution_count": null,
   "metadata": {},
   "outputs": [],
   "source": [
    "cap_data = pd.read_csv(\"../../data/raw/CapInfo.csv\")"
   ]
  },
  {
   "cell_type": "code",
   "execution_count": null,
   "metadata": {},
   "outputs": [],
   "source": [
    "cap_data.head()"
   ]
  },
  {
   "cell_type": "code",
   "execution_count": null,
   "metadata": {},
   "outputs": [],
   "source": [
    "salary_by_year = pd.read_csv(\"../../data/raw/salary_cap_yearly.csv\").to_dict('list')"
   ]
  },
  {
   "cell_type": "code",
   "execution_count": null,
   "metadata": {},
   "outputs": [],
   "source": [
    "type(salary_by_year['2020'][0])"
   ]
  },
  {
   "cell_type": "code",
   "execution_count": null,
   "metadata": {},
   "outputs": [],
   "source": [
    "cap_data['BaseSalaryCap'] = cap_data['Year']"
   ]
  },
  {
   "cell_type": "code",
   "execution_count": null,
   "metadata": {},
   "outputs": [],
   "source": [
    "for i in range(0,cap_data['Year'].size):\n",
    "    #checks to make sure there is a value in the Year column\n",
    "    if type(cap_data['Year'][i]) == str:\n",
    "        \n",
    "        #remove commas if it is still a string\n",
    "        cap_data['Year'][i] = cap_data['Year'][i].replace(',','')\n",
    "        cap_data['CapHit'][i] = cap_data['CapHit'][i].replace(',','')\n",
    "        cap_data['CashSpent'][i] = cap_data['CashSpent'][i].replace(',','')\n",
    "        cap_data['BaseSalaryCap'][i] = cap_data['BaseSalaryCap'][i].replace(',','')\n",
    "        \n",
    "    if not type(cap_data['Year'][i]) == float:\n",
    "        #make into integers\n",
    "        cap_data['Year'][i] = int(cap_data['Year'][i])\n",
    "        cap_data['CapHit'][i] = int(cap_data['CapHit'][i])\n",
    "        cap_data['CashSpent'][i] = int(cap_data['CashSpent'][i])\n",
    "        \n",
    "        #insert base salary cap info\n",
    "        temp = cap_data['BaseSalaryCap'][i]\n",
    "        if salary_by_year[temp][0]:\n",
    "            cap_data['BaseSalaryCap'][i] = salary_by_year[temp][0]"
   ]
  },
  {
   "cell_type": "code",
   "execution_count": null,
   "metadata": {},
   "outputs": [],
   "source": [
    "cap_data.to_csv('../../data/processed/CapHit.csv')"
   ]
  }
 ],
 "metadata": {
  "kernelspec": {
   "display_name": "Python 3",
   "language": "python",
   "name": "python3"
  },
  "language_info": {
   "codemirror_mode": {
    "name": "ipython",
    "version": 3
   },
   "file_extension": ".py",
   "mimetype": "text/x-python",
   "name": "python",
   "nbconvert_exporter": "python",
   "pygments_lexer": "ipython3",
   "version": "3.5.6"
  }
 },
 "nbformat": 4,
 "nbformat_minor": 4
}
