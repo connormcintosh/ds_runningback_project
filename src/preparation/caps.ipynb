{
 "cells": [
  {
   "cell_type": "code",
   "execution_count": 226,
   "metadata": {},
   "outputs": [],
   "source": [
    "import pandas as pd\n",
    "\n",
    "players = pd.read_csv(\"../../data/raw/running_backs.csv\")\n",
    "teams = pd.read_csv(\"../../data/raw/team_names.csv\")\n",
    "caps = pd.read_csv(\"../../data/processed/CapHit.csv\")"
   ]
  },
  {
   "cell_type": "markdown",
   "metadata": {},
   "source": [
    "### Clean CapInfo data:"
   ]
  },
  {
   "cell_type": "markdown",
   "metadata": {},
   "source": [
    "Remove empty rows at bottom:"
   ]
  },
  {
   "cell_type": "code",
   "execution_count": 227,
   "metadata": {},
   "outputs": [],
   "source": [
    "caps = caps.dropna().drop(columns=\"Unnamed: 0\")"
   ]
  },
  {
   "cell_type": "markdown",
   "metadata": {},
   "source": [
    "Convert full team names to their abbreviations:"
   ]
  },
  {
   "cell_type": "code",
   "execution_count": 228,
   "metadata": {},
   "outputs": [],
   "source": [
    "teamConversion = dict(zip(list(teams[\"name\"]), list(teams[\"abbr\"])))\n",
    "\n",
    "caps[\"Team\"] = [teamConversion[name] for name in list(caps[\"Team\"])]"
   ]
  },
  {
   "cell_type": "code",
   "execution_count": 230,
   "metadata": {},
   "outputs": [],
   "source": [
    "def to_int(vals):\n",
    "    return [int(val) for val in vals]\n",
    "\n",
    "caps[\"Year\"] = to_int(caps[\"Year\"])\n",
    "caps[\"CapHit\"] = to_int(caps[\"CapHit\"])\n",
    "caps[\"CashSpent\"] = to_int(caps[\"CashSpent\"])\n",
    "caps[\"BaseSalaryCap\"] = to_int(caps[\"BaseSalaryCap\"])"
   ]
  },
  {
   "cell_type": "code",
   "execution_count": 232,
   "metadata": {},
   "outputs": [
    {
     "data": {
      "text/html": [
       "<div>\n",
       "<style scoped>\n",
       "    .dataframe tbody tr th:only-of-type {\n",
       "        vertical-align: middle;\n",
       "    }\n",
       "\n",
       "    .dataframe tbody tr th {\n",
       "        vertical-align: top;\n",
       "    }\n",
       "\n",
       "    .dataframe thead th {\n",
       "        text-align: right;\n",
       "    }\n",
       "</style>\n",
       "<table border=\"1\" class=\"dataframe\">\n",
       "  <thead>\n",
       "    <tr style=\"text-align: right;\">\n",
       "      <th></th>\n",
       "      <th>Year</th>\n",
       "      <th>Player</th>\n",
       "      <th>Team</th>\n",
       "      <th>CapHit</th>\n",
       "      <th>CashSpent</th>\n",
       "      <th>BaseSalaryCap</th>\n",
       "      <th>PercentHit</th>\n",
       "    </tr>\n",
       "  </thead>\n",
       "  <tbody>\n",
       "    <tr>\n",
       "      <th>5</th>\n",
       "      <td>2024</td>\n",
       "      <td>Christian McCaffrey</td>\n",
       "      <td>CAR</td>\n",
       "      <td>16300000</td>\n",
       "      <td>12000000</td>\n",
       "      <td>256000000</td>\n",
       "      <td>0.063672</td>\n",
       "    </tr>\n",
       "    <tr>\n",
       "      <th>6</th>\n",
       "      <td>2024</td>\n",
       "      <td>Dalvin Cook</td>\n",
       "      <td>MIN</td>\n",
       "      <td>15601273</td>\n",
       "      <td>12500000</td>\n",
       "      <td>256000000</td>\n",
       "      <td>0.060942</td>\n",
       "    </tr>\n",
       "    <tr>\n",
       "      <th>7</th>\n",
       "      <td>2024</td>\n",
       "      <td>Alvin Kamara</td>\n",
       "      <td>NO</td>\n",
       "      <td>14800000</td>\n",
       "      <td>11800000</td>\n",
       "      <td>256000000</td>\n",
       "      <td>0.057813</td>\n",
       "    </tr>\n",
       "    <tr>\n",
       "      <th>8</th>\n",
       "      <td>2024</td>\n",
       "      <td>Joe Mixon</td>\n",
       "      <td>CIN</td>\n",
       "      <td>13133205</td>\n",
       "      <td>10383205</td>\n",
       "      <td>256000000</td>\n",
       "      <td>0.051302</td>\n",
       "    </tr>\n",
       "    <tr>\n",
       "      <th>9</th>\n",
       "      <td>2024</td>\n",
       "      <td>Ezekiel Elliott</td>\n",
       "      <td>DAL</td>\n",
       "      <td>12600000</td>\n",
       "      <td>10000000</td>\n",
       "      <td>256000000</td>\n",
       "      <td>0.049219</td>\n",
       "    </tr>\n",
       "  </tbody>\n",
       "</table>\n",
       "</div>"
      ],
      "text/plain": [
       "   Year               Player Team    CapHit  CashSpent  BaseSalaryCap  \\\n",
       "5  2024  Christian McCaffrey  CAR  16300000   12000000      256000000   \n",
       "6  2024          Dalvin Cook  MIN  15601273   12500000      256000000   \n",
       "7  2024         Alvin Kamara   NO  14800000   11800000      256000000   \n",
       "8  2024            Joe Mixon  CIN  13133205   10383205      256000000   \n",
       "9  2024      Ezekiel Elliott  DAL  12600000   10000000      256000000   \n",
       "\n",
       "   PercentHit  \n",
       "5    0.063672  \n",
       "6    0.060942  \n",
       "7    0.057813  \n",
       "8    0.051302  \n",
       "9    0.049219  "
      ]
     },
     "execution_count": 232,
     "metadata": {},
     "output_type": "execute_result"
    }
   ],
   "source": [
    "caps.head()"
   ]
  },
  {
   "cell_type": "markdown",
   "metadata": {},
   "source": [
    "### Combine CapInfo with running_backs:"
   ]
  },
  {
   "cell_type": "markdown",
   "metadata": {},
   "source": [
    "Find player id from caps data:"
   ]
  },
  {
   "cell_type": "code",
   "execution_count": 184,
   "metadata": {},
   "outputs": [],
   "source": [
    "# single row data frames:\n",
    "def player_match(player_data, caps_data):\n",
    "    return (\n",
    "        (player_data[\"year\"] == caps_data[\"Year\"]) and \n",
    "        (player_data[\"team\"] == caps_data[\"Team\"])\n",
    "    )\n",
    "\n",
    "\n",
    "def get_same_name(caps_data):\n",
    "    return players[players[\"playername\"] == caps_data[\"Player\"].values[0].rstrip()]\n",
    "\n",
    "\n",
    "def get_player_id(caps_data):\n",
    "    # get players with the same name:\n",
    "    same_name = get_same_name(caps_data)\n",
    "    \n",
    "    # if can't find any player with the same name\n",
    "    if len(same_name) == 0:\n",
    "        return 0\n",
    "    \n",
    "    # if there is only one player with that name\n",
    "    if len(set(same_name[\"playerid\"])) == 1:\n",
    "        return same_name[\"playerid\"].values[0]\n",
    "    \n",
    "    # if there are multiple players with that name\n",
    "    years = list(caps_data[\"Year\"])\n",
    "    \n",
    "    for i in range(len(years)):\n",
    "        # get players that have the same year\n",
    "        same_name_year = same_name[same_name[\"year\"] == years[i]]\n",
    "        \n",
    "        for j in range(len(same_name_year)):\n",
    "            # check if were on the same team\n",
    "            if player_match(same_name_year.iloc[j], caps_data.iloc[i]):\n",
    "                return same_name_year.iloc[j][\"playerid\"]\n",
    "            \n",
    "    return 0"
   ]
  },
  {
   "cell_type": "markdown",
   "metadata": {},
   "source": [
    "Combine data functions:"
   ]
  },
  {
   "cell_type": "code",
   "execution_count": 254,
   "metadata": {},
   "outputs": [],
   "source": [
    "# caps data has duplicate years\n",
    "def remove_dup_years(df):\n",
    "    unique = set(df[\"Year\"])\n",
    "    total = list(df[\"Year\"])\n",
    "    \n",
    "    if len(unique) == len(total):\n",
    "        return df\n",
    "    \n",
    "    indexes = [True] * len(total)\n",
    "    \n",
    "    # total is in decreasing order so the second one (older one) is removed\n",
    "    for i in range(1, len(total)):\n",
    "        if total[i] == total[i - 1]:\n",
    "            indexes[i] = False\n",
    "            \n",
    "    return df[indexes]\n",
    "\n",
    "# get indexes of player data with same year as caps_data\n",
    "def get_indexes(player_data, caps_data):\n",
    "    caps_years = list(caps_data[\"Year\"])\n",
    "    player_years = list(player_data[\"year\"])\n",
    "    \n",
    "    cy_len = len(caps_years)\n",
    "    py_len = len(player_years)\n",
    "    \n",
    "    cy_indexes = [False] * cy_len\n",
    "    py_indexes = [False] * py_len\n",
    "    \n",
    "    for i in range(cy_len):\n",
    "        if caps_years[i] in player_years:\n",
    "            cy_indexes[i] = True\n",
    "    \n",
    "    for i in range(py_len):\n",
    "        if player_years[i] in caps_years:\n",
    "            py_indexes[i] = True\n",
    "    \n",
    "    return [player_data[py_indexes], caps_data[cy_indexes]]\n",
    "\n",
    "\n",
    "# add new columns:\n",
    "def combine(player_data, caps_data):\n",
    "    player_data[\"caphit\"] = list(caps_data[\"CapHit\"])\n",
    "    player_data[\"cashspent\"] = list(caps_data[\"CashSpent\"])\n",
    "    player_data[\"basesalarycap\"] = list(caps_data[\"BaseSalaryCap\"])\n",
    "    player_data[\"percenthit\"] = list(caps_data[\"PercentHit\"])\n",
    "    \n",
    "    return player_data.drop(columns=\"Unnamed: 0\")"
   ]
  },
  {
   "cell_type": "code",
   "execution_count": 262,
   "metadata": {
    "scrolled": true
   },
   "outputs": [],
   "source": [
    "headers = True\n",
    "\n",
    "for player_name, caps_data in caps.groupby(\"Player\"):     \n",
    "    player_id = get_player_id(caps_data)\n",
    "    \n",
    "    if player_id:\n",
    "        player_data = players[players[\"playerid\"] == player_id]\n",
    "        caps_data_no_dup = remove_dup_years(caps_data)\n",
    "        \n",
    "        player_data, caps_data = get_indexes(player_data, caps_data_no_dup)\n",
    "        \n",
    "        combined = combine(player_data, caps_data)                \n",
    "        combined.to_csv(\"../../data/processed/combined.csv\", mode='a', header=headers)\n",
    "        headers = False"
   ]
  }
 ],
 "metadata": {
  "kernelspec": {
   "display_name": "Python 3",
   "language": "python",
   "name": "python3"
  },
  "language_info": {
   "codemirror_mode": {
    "name": "ipython",
    "version": 3
   },
   "file_extension": ".py",
   "mimetype": "text/x-python",
   "name": "python",
   "nbconvert_exporter": "python",
   "pygments_lexer": "ipython3",
   "version": "3.7.4"
  }
 },
 "nbformat": 4,
 "nbformat_minor": 2
}
